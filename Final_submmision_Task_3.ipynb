{
  "cells": [
    {
      "cell_type": "markdown",
      "metadata": {
        "id": "view-in-github",
        "colab_type": "text"
      },
      "source": [
        "<a href=\"https://colab.research.google.com/github/yhc-666/hate-speech-detection/blob/master/Final_submmision_Task_3.ipynb\" target=\"_parent\"><img src=\"https://colab.research.google.com/assets/colab-badge.svg\" alt=\"Open In Colab\"/></a>"
      ]
    },
    {
      "cell_type": "code",
      "execution_count": 1,
      "metadata": {
        "colab": {
          "base_uri": "https://localhost:8080/"
        },
        "id": "W_Hj42M9GVa0",
        "outputId": "d54ce00d-a904-4b74-c7c2-215a41a2a845"
      },
      "outputs": [
        {
          "output_type": "stream",
          "name": "stdout",
          "text": [
            "Mounted at /content/drive\n"
          ]
        }
      ],
      "source": [
        "from google.colab import drive\n",
        "drive.mount('/content/drive')"
      ]
    },
    {
      "cell_type": "code",
      "execution_count": 2,
      "metadata": {
        "id": "gdIbGzE-Pa9e"
      },
      "outputs": [],
      "source": [
        "from sklearn.model_selection import train_test_split\n",
        "import pandas as pd\n",
        "import matplotlib.pyplot as plt\n",
        "from sklearn import datasets\n",
        "from sklearn.metrics import accuracy_score\n",
        "from sklearn import metrics\n",
        "from sklearn.metrics import make_scorer\n",
        "from sklearn.ensemble import RandomForestClassifier\n",
        "import matplotlib.pyplot as plt"
      ]
    },
    {
      "cell_type": "code",
      "execution_count": 27,
      "metadata": {
        "colab": {
          "base_uri": "https://localhost:8080/"
        },
        "id": "k5ygKvivXE9-",
        "outputId": "bc48c806-d72a-4d8a-bf46-162743f35436"
      },
      "outputs": [
        {
          "output_type": "stream",
          "name": "stdout",
          "text": [
            "Fri Aug  5 12:37:11 2022       \n",
            "+-----------------------------------------------------------------------------+\n",
            "| NVIDIA-SMI 460.32.03    Driver Version: 460.32.03    CUDA Version: 11.2     |\n",
            "|-------------------------------+----------------------+----------------------+\n",
            "| GPU  Name        Persistence-M| Bus-Id        Disp.A | Volatile Uncorr. ECC |\n",
            "| Fan  Temp  Perf  Pwr:Usage/Cap|         Memory-Usage | GPU-Util  Compute M. |\n",
            "|                               |                      |               MIG M. |\n",
            "|===============================+======================+======================|\n",
            "|   0  Tesla P100-PCIE...  Off  | 00000000:00:04.0 Off |                    0 |\n",
            "| N/A   34C    P0    26W / 250W |      0MiB / 16280MiB |      0%      Default |\n",
            "|                               |                      |                  N/A |\n",
            "+-------------------------------+----------------------+----------------------+\n",
            "                                                                               \n",
            "+-----------------------------------------------------------------------------+\n",
            "| Processes:                                                                  |\n",
            "|  GPU   GI   CI        PID   Type   Process name                  GPU Memory |\n",
            "|        ID   ID                                                   Usage      |\n",
            "|=============================================================================|\n",
            "|  No running processes found                                                 |\n",
            "+-----------------------------------------------------------------------------+\n"
          ]
        }
      ],
      "source": [
        "gpu_info = !nvidia-smi\n",
        "gpu_info = '\\n'.join(gpu_info)\n",
        "if gpu_info.find('failed') >= 0:\n",
        "  print('Not connected to a GPU')\n",
        "else:\n",
        "  print(gpu_info)"
      ]
    },
    {
      "cell_type": "code",
      "execution_count": 3,
      "metadata": {
        "id": "YjbwQqEjHyBx"
      },
      "outputs": [],
      "source": [
        "df_dataset = pd.read_csv('/content/drive/MyDrive/50.007kaggle/train.csv')\n",
        "df_test = pd.read_csv('/content/drive/MyDrive/50.007kaggle/test.csv')\n",
        "df_dataset_features = pd.read_csv(\"/content/drive/MyDrive/50.007kaggle/train_tfidf_features.csv\")\n",
        "df_test_features = pd.read_csv(\"/content/drive/MyDrive/50.007kaggle/test_tfidf_features.csv\")"
      ]
    },
    {
      "cell_type": "code",
      "execution_count": 33,
      "metadata": {
        "id": "W15Y4GpkLiKI"
      },
      "outputs": [],
      "source": [
        "# y of whole dataset\n",
        "labels = df_dataset_features.iloc[:,[1]]\n",
        "# X of whole dataset\n",
        "features = df_dataset_features.iloc[:,2:]\n",
        "\n",
        "# split train test set\n",
        "X_train, X_validation, y_train, y_validation = train_test_split(features, labels, test_size=0.05, random_state = 4)"
      ]
    },
    {
      "cell_type": "markdown",
      "source": [
        "# Model1: Random Forest (Best model used for final submission)"
      ],
      "metadata": {
        "id": "PyZlHvc731xp"
      }
    },
    {
      "cell_type": "markdown",
      "source": [
        "Note: we first use 10-fold cross validation to find best hyper parameters to determine the model, then train the determined model on whole dataset. So we are not showing prediction/performance on validation set. Detail of hyperparameter tuning will be discussed in Task 4 report "
      ],
      "metadata": {
        "id": "7cITnANk4JLI"
      }
    },
    {
      "cell_type": "code",
      "execution_count": 43,
      "metadata": {
        "id": "b07e6pA1-N6c"
      },
      "outputs": [],
      "source": [
        "model_rf = RandomForestClassifier(n_estimators=131, \n",
        "                               min_samples_split = 5,\n",
        "                               class_weight = {0:1, 1:2},\n",
        "                               random_state = 4)"
      ]
    },
    {
      "cell_type": "code",
      "execution_count": 26,
      "metadata": {
        "colab": {
          "base_uri": "https://localhost:8080/"
        },
        "id": "6fXjbWGVBb1m",
        "outputId": "808ab47b-cea2-4d47-f7e0-aeaa61bddfc4"
      },
      "outputs": [
        {
          "output_type": "stream",
          "name": "stderr",
          "text": [
            "/usr/local/lib/python3.7/dist-packages/ipykernel_launcher.py:1: DataConversionWarning: A column-vector y was passed when a 1d array was expected. Please change the shape of y to (n_samples,), for example using ravel().\n",
            "  \"\"\"Entry point for launching an IPython kernel.\n"
          ]
        },
        {
          "output_type": "execute_result",
          "data": {
            "text/plain": [
              "RandomForestClassifier(class_weight={0: 1, 1: 2}, min_samples_split=5,\n",
              "                       n_estimators=131, random_state=4)"
            ]
          },
          "metadata": {},
          "execution_count": 26
        }
      ],
      "source": [
        "model_rf.fit(features,labels)"
      ]
    },
    {
      "cell_type": "markdown",
      "source": [
        "# Model2: LDA"
      ],
      "metadata": {
        "id": "cAplWtnM6ii2"
      }
    },
    {
      "cell_type": "code",
      "source": [
        "from sklearn.discriminant_analysis import LinearDiscriminantAnalysis as LDA\n",
        "from sklearn.linear_model import LogisticRegression"
      ],
      "metadata": {
        "id": "PpYUu_MI7MA3"
      },
      "execution_count": 17,
      "outputs": []
    },
    {
      "cell_type": "markdown",
      "source": [
        "Train a LDA model on X_train and use it to transform X_train to X_train_LDA "
      ],
      "metadata": {
        "id": "dnIqvshZ8GAI"
      }
    },
    {
      "cell_type": "code",
      "source": [
        "sklearn_lda = LDA(n_components=1).fit(X_train,y_train)\n",
        "X_train_lda = sklearn_lda.transform(X_train)"
      ],
      "metadata": {
        "colab": {
          "base_uri": "https://localhost:8080/"
        },
        "id": "GoSWMEdV6-nf",
        "outputId": "8c4e9d67-2824-4584-8e58-703c2edb0019"
      },
      "execution_count": 18,
      "outputs": [
        {
          "output_type": "stream",
          "name": "stderr",
          "text": [
            "/usr/local/lib/python3.7/dist-packages/sklearn/utils/validation.py:993: DataConversionWarning: A column-vector y was passed when a 1d array was expected. Please change the shape of y to (n_samples, ), for example using ravel().\n",
            "  y = column_or_1d(y, warn=True)\n"
          ]
        }
      ]
    },
    {
      "cell_type": "markdown",
      "source": [
        "Train a logistic regression model on transformed X_train"
      ],
      "metadata": {
        "id": "joXbUKZo8Jh-"
      }
    },
    {
      "cell_type": "code",
      "source": [
        "lr = LogisticRegression()\n",
        "lr.fit(X_train_lda,y_train)"
      ],
      "metadata": {
        "colab": {
          "base_uri": "https://localhost:8080/"
        },
        "id": "BKc3q99T7mH8",
        "outputId": "b2586978-7bbe-4347-ff49-08b416b50f51"
      },
      "execution_count": 19,
      "outputs": [
        {
          "output_type": "stream",
          "name": "stderr",
          "text": [
            "/usr/local/lib/python3.7/dist-packages/sklearn/utils/validation.py:993: DataConversionWarning: A column-vector y was passed when a 1d array was expected. Please change the shape of y to (n_samples, ), for example using ravel().\n",
            "  y = column_or_1d(y, warn=True)\n"
          ]
        },
        {
          "output_type": "execute_result",
          "data": {
            "text/plain": [
              "LogisticRegression()"
            ]
          },
          "metadata": {},
          "execution_count": 19
        }
      ]
    },
    {
      "cell_type": "markdown",
      "source": [
        "Perfrom LDA transform using trained LDA model on X_validation to get X_validation_LDA, and perform prediction using X_validation_LDA and trained logistic regression model."
      ],
      "metadata": {
        "id": "bRftrF5e8gTf"
      }
    },
    {
      "cell_type": "code",
      "source": [
        "X_validation_lda = sklearn_lda.transform(X_validation)"
      ],
      "metadata": {
        "id": "RetTqkH39OvX"
      },
      "execution_count": 20,
      "outputs": []
    },
    {
      "cell_type": "code",
      "source": [
        "y_validation, y_pred_validation = y_validation, lr.predict(X_validation_lda)\n",
        "threshold = 0.5\n",
        "for i in range(len(y_pred_validation)):\n",
        "    y_pred_validation[i] = 1 if y_pred_validation[i] > threshold else 0"
      ],
      "metadata": {
        "id": "AiSiY7n08B4h"
      },
      "execution_count": 21,
      "outputs": []
    },
    {
      "cell_type": "markdown",
      "source": [
        "Evaluate our model prediction on validation set using macro F1 score. "
      ],
      "metadata": {
        "id": "8mBx_0cW9iyz"
      }
    },
    {
      "cell_type": "code",
      "source": [
        "pos_f1 = metrics.f1_score(y_validation, y_pred_validation, pos_label=1 )\n",
        "neg_f1 = metrics.f1_score(y_validation, y_pred_validation, pos_label=0 )\n",
        "macro_f1 = (pos_f1 + neg_f1)/2\n",
        "print(pos_f1)\n",
        "print(neg_f1)\n",
        "print(\"validation_macro_f1 : %.4g\" % macro_f1)  "
      ],
      "metadata": {
        "colab": {
          "base_uri": "https://localhost:8080/"
        },
        "id": "k-G7OX1t9zA1",
        "outputId": "802ae189-2049-4b5b-d1ca-3d1d539fe023"
      },
      "execution_count": 23,
      "outputs": [
        {
          "output_type": "stream",
          "name": "stdout",
          "text": [
            "0.5472972972972973\n",
            "0.7624113475177304\n",
            "validation_macro_f1 : 0.6549\n"
          ]
        }
      ]
    },
    {
      "cell_type": "markdown",
      "source": [
        "# Model3: LightGBM"
      ],
      "metadata": {
        "id": "Aks5Jqz--irw"
      }
    },
    {
      "cell_type": "code",
      "source": [
        "import lightgbm as lgb"
      ],
      "metadata": {
        "id": "0Ud1AEkt_Pbz"
      },
      "execution_count": 24,
      "outputs": []
    },
    {
      "cell_type": "markdown",
      "source": [
        "Set hyperparameters of model"
      ],
      "metadata": {
        "id": "VK-SvnApCJjt"
      }
    },
    {
      "cell_type": "code",
      "source": [
        "model_lgbm = lgb.LGBMClassifier(boosting_type = 'gbdt',  # 设置提升类型\n",
        "    objective = 'binary', \n",
        "    num_iterations = 1000,\n",
        "    max_depth = -1,\n",
        "    metric = 'macro_f1',  \n",
        "    num_leaves = 220,  \n",
        "    learning_rate = 0.01,  \n",
        "    feature_fraction = 0.9,  \n",
        "    bagging_fraction = 0.65,  \n",
        "    bagging_freq =  5,  \n",
        "    min_data_in_leaf = 20,\n",
        "    scale_pos_weight = 1.8,\n",
        "    lambda_l2 = 5,\n",
        "    nthread = -1,)"
      ],
      "metadata": {
        "id": "Ad38BY5k_jQ_"
      },
      "execution_count": 28,
      "outputs": []
    },
    {
      "cell_type": "markdown",
      "source": [
        "Train model on training set"
      ],
      "metadata": {
        "id": "P6jVso7aCNn6"
      }
    },
    {
      "cell_type": "code",
      "source": [
        "model_lgbm.fit(X_train,y_train, eval_metric = 'f1_macro')"
      ],
      "metadata": {
        "colab": {
          "base_uri": "https://localhost:8080/"
        },
        "id": "iCbaZRIY_tDd",
        "outputId": "a0f6d4f0-122f-4c71-bafd-8afd4abc4ed4"
      },
      "execution_count": 34,
      "outputs": [
        {
          "output_type": "stream",
          "name": "stderr",
          "text": [
            "/usr/local/lib/python3.7/dist-packages/sklearn/preprocessing/_label.py:98: DataConversionWarning: A column-vector y was passed when a 1d array was expected. Please change the shape of y to (n_samples, ), for example using ravel().\n",
            "  y = column_or_1d(y, warn=True)\n",
            "/usr/local/lib/python3.7/dist-packages/sklearn/preprocessing/_label.py:133: DataConversionWarning: A column-vector y was passed when a 1d array was expected. Please change the shape of y to (n_samples, ), for example using ravel().\n",
            "  y = column_or_1d(y, warn=True)\n",
            "/usr/local/lib/python3.7/dist-packages/lightgbm/engine.py:118: UserWarning: Found `num_iterations` in params. Will use it instead of argument\n",
            "  warnings.warn(\"Found `{}` in params. Will use it instead of argument\".format(alias))\n"
          ]
        },
        {
          "output_type": "execute_result",
          "data": {
            "text/plain": [
              "LGBMClassifier(bagging_fraction=0.65, bagging_freq=5, feature_fraction=0.9,\n",
              "               lambda_l2=5, learning_rate=0.01, metric='macro_f1',\n",
              "               min_data_in_leaf=20, nthread=-1, num_iterations=1000,\n",
              "               num_leaves=220, objective='binary', scale_pos_weight=1.8)"
            ]
          },
          "metadata": {},
          "execution_count": 34
        }
      ]
    },
    {
      "cell_type": "markdown",
      "source": [
        "Use model to make prediction on validation_set"
      ],
      "metadata": {
        "id": "CD7Fr-IaCVa6"
      }
    },
    {
      "cell_type": "code",
      "source": [
        "y_validation, y_pred_validation = y_validation, model_lgbm.predict(X_validation)\n",
        "\n",
        "threshold = 0.5\n",
        "for i in range(len(y_pred_validation)):\n",
        "    y_pred_validation[i] = 1 if y_pred_validation[i] > threshold else 0"
      ],
      "metadata": {
        "id": "ACWpFGffAAt0"
      },
      "execution_count": 35,
      "outputs": []
    },
    {
      "cell_type": "markdown",
      "source": [
        "Evaluate our model prediction on validation set using macro F1 score."
      ],
      "metadata": {
        "id": "l6EFMvcxAICG"
      }
    },
    {
      "cell_type": "code",
      "source": [
        "pos_f1 = metrics.f1_score(y_validation, y_pred_validation, pos_label=1 )\n",
        "neg_f1 = metrics.f1_score(y_validation, y_pred_validation, pos_label=0 )\n",
        "macro_f1 = (pos_f1 + neg_f1)/2\n",
        "print(pos_f1)\n",
        "print(neg_f1)\n",
        "print(\"validation_macro_f1 : %.4g\" % macro_f1)  "
      ],
      "metadata": {
        "colab": {
          "base_uri": "https://localhost:8080/"
        },
        "id": "kvwm6gJ8AEmQ",
        "outputId": "a796e119-2ad2-44fc-a127-2cfeb8562499"
      },
      "execution_count": 36,
      "outputs": [
        {
          "output_type": "stream",
          "name": "stdout",
          "text": [
            "0.6513629842180775\n",
            "0.7624633431085045\n",
            "validation_macro_f1 : 0.7069\n"
          ]
        }
      ]
    },
    {
      "cell_type": "markdown",
      "source": [
        "# Model4: XGboost Tree "
      ],
      "metadata": {
        "id": "gbboFVVIDKhi"
      }
    },
    {
      "cell_type": "code",
      "source": [
        "from xgboost import XGBClassifier"
      ],
      "metadata": {
        "id": "YmeJ308pDxVe"
      },
      "execution_count": 37,
      "outputs": []
    },
    {
      "cell_type": "markdown",
      "source": [
        "Set hyperparameters of model"
      ],
      "metadata": {
        "id": "2Rxffo7KD3fP"
      }
    },
    {
      "cell_type": "code",
      "source": [
        "model_XGBT = XGBClassifier(learning_rate=0.01,\n",
        "                      n_estimators=100,          \n",
        "                      max_depth=10,               \n",
        "                      min_child_weight = 1,     \n",
        "                      gamma=0.,                  \n",
        "                      reg_lambda = 1.2,\n",
        "                      subsample=0.6,             \n",
        "                      colsample_btree=1,         \n",
        "                      scale_pos_weight=2,        \n",
        "                      random_state=1,           \n",
        "                      slient = 0\n",
        "                      )"
      ],
      "metadata": {
        "id": "MkTt4HyzD8vl"
      },
      "execution_count": 41,
      "outputs": []
    },
    {
      "cell_type": "markdown",
      "source": [
        "Train model on training set"
      ],
      "metadata": {
        "id": "RSj8p44yDy2h"
      }
    },
    {
      "cell_type": "code",
      "source": [
        "model_XGBT.fit(X_train, y_train)"
      ],
      "metadata": {
        "colab": {
          "base_uri": "https://localhost:8080/"
        },
        "id": "AVgLeA5sD2YS",
        "outputId": "e624f04d-be8c-4e2a-8d91-7b54dec84ce6"
      },
      "execution_count": 42,
      "outputs": [
        {
          "output_type": "stream",
          "name": "stderr",
          "text": [
            "/usr/local/lib/python3.7/dist-packages/sklearn/preprocessing/_label.py:98: DataConversionWarning: A column-vector y was passed when a 1d array was expected. Please change the shape of y to (n_samples, ), for example using ravel().\n",
            "  y = column_or_1d(y, warn=True)\n",
            "/usr/local/lib/python3.7/dist-packages/sklearn/preprocessing/_label.py:133: DataConversionWarning: A column-vector y was passed when a 1d array was expected. Please change the shape of y to (n_samples, ), for example using ravel().\n",
            "  y = column_or_1d(y, warn=True)\n"
          ]
        },
        {
          "output_type": "execute_result",
          "data": {
            "text/plain": [
              "XGBClassifier(colsample_btree=1, gamma=0.0, learning_rate=0.01, max_depth=10,\n",
              "              random_state=1, reg_lambda=1.2, scale_pos_weight=2, slient=0,\n",
              "              subsample=0.6)"
            ]
          },
          "metadata": {},
          "execution_count": 42
        }
      ]
    },
    {
      "cell_type": "markdown",
      "source": [
        "Use model to make prediction on validation_set"
      ],
      "metadata": {
        "id": "mkq-eRHWFmA5"
      }
    },
    {
      "cell_type": "code",
      "source": [
        "y_validation, y_pred_validation = y_validation, model_XGBT.predict(X_validation)"
      ],
      "metadata": {
        "id": "9hfs2PeBFmLC"
      },
      "execution_count": 44,
      "outputs": []
    },
    {
      "cell_type": "markdown",
      "source": [
        "Evaluate our model prediction on validation set using macro F1 score."
      ],
      "metadata": {
        "id": "FtmA_NthFgra"
      }
    },
    {
      "cell_type": "code",
      "source": [
        "pos_f1 = metrics.f1_score(y_validation, y_pred_validation, pos_label=1 )\n",
        "neg_f1 = metrics.f1_score(y_validation, y_pred_validation, pos_label=0 )\n",
        "macro_f1 = (pos_f1 + neg_f1)/2\n",
        "print(pos_f1)\n",
        "print(neg_f1)\n",
        "print(\"validation_macro_f1 : %.4g\" % macro_f1)  "
      ],
      "metadata": {
        "colab": {
          "base_uri": "https://localhost:8080/"
        },
        "id": "GSIyXrYXDoIg",
        "outputId": "85e4d36a-3ccf-4212-d2a3-1fc3de94fc4d"
      },
      "execution_count": 45,
      "outputs": [
        {
          "output_type": "stream",
          "name": "stdout",
          "text": [
            "0.5967302452316077\n",
            "0.6997971602434078\n",
            "validation_macro_f1 : 0.6483\n"
          ]
        }
      ]
    },
    {
      "cell_type": "markdown",
      "source": [
        "# Model5: Logistic regression"
      ],
      "metadata": {
        "id": "wQ597hQtF0Kh"
      }
    },
    {
      "cell_type": "markdown",
      "source": [
        "Train model on training set"
      ],
      "metadata": {
        "id": "S1ziDuL5IQDy"
      }
    },
    {
      "cell_type": "code",
      "source": [
        "lr = LogisticRegression()\n",
        "lr.fit(X_train,y_train)"
      ],
      "metadata": {
        "colab": {
          "base_uri": "https://localhost:8080/"
        },
        "id": "P-irqHolF6qg",
        "outputId": "12aa139b-c304-4011-9528-cdcf8ea48d66"
      },
      "execution_count": 49,
      "outputs": [
        {
          "output_type": "stream",
          "name": "stderr",
          "text": [
            "/usr/local/lib/python3.7/dist-packages/sklearn/utils/validation.py:993: DataConversionWarning: A column-vector y was passed when a 1d array was expected. Please change the shape of y to (n_samples, ), for example using ravel().\n",
            "  y = column_or_1d(y, warn=True)\n"
          ]
        },
        {
          "output_type": "execute_result",
          "data": {
            "text/plain": [
              "LogisticRegression()"
            ]
          },
          "metadata": {},
          "execution_count": 49
        }
      ]
    },
    {
      "cell_type": "markdown",
      "source": [
        "Use model to make prediction on validation_set"
      ],
      "metadata": {
        "id": "Jnm5kbrPIZvM"
      }
    },
    {
      "cell_type": "code",
      "source": [
        "y_validation, y_pred_validation = y_validation, lr.predict(X_validation)\n",
        "threshold = 0.5\n",
        "for i in range(len(y_pred_validation)):\n",
        "    y_pred_validation[i] = 1 if y_pred_validation[i] > threshold else 0"
      ],
      "metadata": {
        "id": "qT_bFU1vIju6"
      },
      "execution_count": 50,
      "outputs": []
    },
    {
      "cell_type": "markdown",
      "source": [
        "Evaluate our model prediction on validation set using macro F1 score."
      ],
      "metadata": {
        "id": "GneWO7eOIkwu"
      }
    },
    {
      "cell_type": "code",
      "source": [
        "pos_f1 = metrics.f1_score(y_validation, y_pred_validation, pos_label=1 )\n",
        "neg_f1 = metrics.f1_score(y_validation, y_pred_validation, pos_label=0 )\n",
        "macro_f1 = (pos_f1 + neg_f1)/2\n",
        "print(pos_f1)\n",
        "print(neg_f1)\n",
        "print(\"validation_macro_f1 : %.4g\" % macro_f1)  "
      ],
      "metadata": {
        "colab": {
          "base_uri": "https://localhost:8080/"
        },
        "id": "OPnI3jXAIq-s",
        "outputId": "f18bfa06-3013-4b79-bcb2-b8114e8111d4"
      },
      "execution_count": 51,
      "outputs": [
        {
          "output_type": "stream",
          "name": "stdout",
          "text": [
            "0.5601436265709157\n",
            "0.7893379191745485\n",
            "validation_macro_f1 : 0.6747\n"
          ]
        }
      ]
    },
    {
      "cell_type": "markdown",
      "source": [
        "# Use our best model(random forest) to predict on test set and save prediction in a csv file"
      ],
      "metadata": {
        "id": "6c_l0zi4-JOV"
      }
    },
    {
      "cell_type": "code",
      "execution_count": 10,
      "metadata": {
        "id": "FkbBhqmW73Pv"
      },
      "outputs": [],
      "source": [
        "X_test = df_test_features.iloc[:,1:]"
      ]
    },
    {
      "cell_type": "code",
      "execution_count": 12,
      "metadata": {
        "id": "LMO5yVxihheq"
      },
      "outputs": [],
      "source": [
        "y_test = model_rf.predict(X_test)"
      ]
    },
    {
      "cell_type": "code",
      "execution_count": 13,
      "metadata": {
        "colab": {
          "base_uri": "https://localhost:8080/"
        },
        "id": "O9PCguXuh9Hu",
        "outputId": "32770f43-b800-4788-cf9b-9bbd5d67f018"
      },
      "outputs": [
        {
          "output_type": "stream",
          "name": "stdout",
          "text": [
            "[1 0 1 ... 1 0 1]\n"
          ]
        }
      ],
      "source": [
        "print(y_test)"
      ]
    },
    {
      "cell_type": "code",
      "execution_count": 14,
      "metadata": {
        "colab": {
          "base_uri": "https://localhost:8080/"
        },
        "id": "KxpjzG47ixU2",
        "outputId": "e334a76c-5f53-4d59-9702-bcad56481894"
      },
      "outputs": [
        {
          "output_type": "stream",
          "name": "stdout",
          "text": [
            "       label\n",
            "id          \n",
            "17185      1\n",
            "17186      0\n",
            "17187      1\n",
            "17188      0\n",
            "17189      0\n",
            "...      ...\n",
            "21476      1\n",
            "21477      1\n",
            "21478      1\n",
            "21479      0\n",
            "21480      1\n",
            "\n",
            "[4296 rows x 1 columns]\n"
          ]
        }
      ],
      "source": [
        "x = df_test\n",
        "x = x.set_index(\"id\")\n",
        "x = x.drop(\"post\", axis = 1)\n",
        "x[\"label\"] = y_test\n",
        "print(x)\n",
        "x.to_csv(\"/content/drive/MyDrive/50.007kaggle/submit.csv\")"
      ]
    }
  ],
  "metadata": {
    "accelerator": "GPU",
    "colab": {
      "collapsed_sections": [],
      "name": "Final submmision Task 3",
      "provenance": [],
      "machine_shape": "hm",
      "mount_file_id": "1UhkVzKCI8AEiC-ywoWL5JAIR0Amb9s7e",
      "authorship_tag": "ABX9TyMSigpWAMn+8ONn0DlH9RtA",
      "include_colab_link": true
    },
    "gpuClass": "standard",
    "kernelspec": {
      "display_name": "Python 3",
      "name": "python3"
    },
    "language_info": {
      "name": "python"
    }
  },
  "nbformat": 4,
  "nbformat_minor": 0
}