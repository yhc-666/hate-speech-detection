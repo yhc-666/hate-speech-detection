{
  "cells": [
    {
      "cell_type": "markdown",
      "metadata": {
        "id": "view-in-github",
        "colab_type": "text"
      },
      "source": [
        "<a href=\"https://colab.research.google.com/github/yhc-666/hate-speech-detection/blob/master/randomforest.ipynb\" target=\"_parent\"><img src=\"https://colab.research.google.com/assets/colab-badge.svg\" alt=\"Open In Colab\"/></a>"
      ]
    },
    {
      "cell_type": "code",
      "execution_count": null,
      "metadata": {
        "colab": {
          "base_uri": "https://localhost:8080/"
        },
        "id": "W_Hj42M9GVa0",
        "outputId": "cc4a9002-ef5c-4dc7-c0cb-19be453b9aeb"
      },
      "outputs": [
        {
          "output_type": "stream",
          "name": "stdout",
          "text": [
            "Mounted at /content/drive\n"
          ]
        }
      ],
      "source": [
        "from google.colab import drive\n",
        "drive.mount('/content/drive')"
      ]
    },
    {
      "cell_type": "code",
      "execution_count": null,
      "metadata": {
        "id": "gdIbGzE-Pa9e"
      },
      "outputs": [],
      "source": [
        "from sklearn.model_selection import train_test_split\n",
        "import pandas as pd\n",
        "import matplotlib.pyplot as plt\n",
        "from sklearn import datasets\n",
        "from sklearn.metrics import accuracy_score\n",
        "from sklearn import metrics\n",
        "from sklearn.metrics import make_scorer\n",
        "from sklearn.ensemble import RandomForestClassifier\n",
        "import matplotlib.pyplot as plt"
      ]
    },
    {
      "cell_type": "code",
      "execution_count": null,
      "metadata": {
        "colab": {
          "base_uri": "https://localhost:8080/"
        },
        "id": "k5ygKvivXE9-",
        "outputId": "9f79055d-881e-42e4-b1d5-da91bd272868"
      },
      "outputs": [
        {
          "output_type": "stream",
          "name": "stdout",
          "text": [
            "Mon Jul 18 12:20:20 2022       \n",
            "+-----------------------------------------------------------------------------+\n",
            "| NVIDIA-SMI 460.32.03    Driver Version: 460.32.03    CUDA Version: 11.2     |\n",
            "|-------------------------------+----------------------+----------------------+\n",
            "| GPU  Name        Persistence-M| Bus-Id        Disp.A | Volatile Uncorr. ECC |\n",
            "| Fan  Temp  Perf  Pwr:Usage/Cap|         Memory-Usage | GPU-Util  Compute M. |\n",
            "|                               |                      |               MIG M. |\n",
            "|===============================+======================+======================|\n",
            "|   0  Tesla P100-PCIE...  Off  | 00000000:00:04.0 Off |                    0 |\n",
            "| N/A   40C    P0    26W / 250W |      0MiB / 16280MiB |      0%      Default |\n",
            "|                               |                      |                  N/A |\n",
            "+-------------------------------+----------------------+----------------------+\n",
            "                                                                               \n",
            "+-----------------------------------------------------------------------------+\n",
            "| Processes:                                                                  |\n",
            "|  GPU   GI   CI        PID   Type   Process name                  GPU Memory |\n",
            "|        ID   ID                                                   Usage      |\n",
            "|=============================================================================|\n",
            "|  No running processes found                                                 |\n",
            "+-----------------------------------------------------------------------------+\n"
          ]
        }
      ],
      "source": [
        "gpu_info = !nvidia-smi\n",
        "gpu_info = '\\n'.join(gpu_info)\n",
        "if gpu_info.find('failed') >= 0:\n",
        "  print('Not connected to a GPU')\n",
        "else:\n",
        "  print(gpu_info)"
      ]
    },
    {
      "cell_type": "code",
      "execution_count": null,
      "metadata": {
        "id": "YjbwQqEjHyBx"
      },
      "outputs": [],
      "source": [
        "df_dataset = pd.read_csv('/content/drive/MyDrive/50.007kaggle/train.csv')\n",
        "df_test = pd.read_csv('/content/drive/MyDrive/50.007kaggle/test.csv')\n",
        "df_dataset_features = pd.read_csv(\"/content/drive/MyDrive/50.007kaggle/train_tfidf_features.csv\")\n",
        "df_test_features = pd.read_csv(\"/content/drive/MyDrive/50.007kaggle/test_tfidf_features.csv\")\n",
        "samplesubmit = pd.read_csv(\"/content/drive/MyDrive/50.007kaggle/sample_submission.csv\")"
      ]
    },
    {
      "cell_type": "code",
      "execution_count": null,
      "metadata": {
        "colab": {
          "base_uri": "https://localhost:8080/"
        },
        "id": "5-yCmXKwobCZ",
        "outputId": "358a2b97-bd86-4f12-e7d2-4e20ec85654b"
      },
      "outputs": [
        {
          "name": "stdout",
          "output_type": "stream",
          "text": [
            "(4296, 2)\n"
          ]
        }
      ],
      "source": [
        "print(samplesubmit.shape)"
      ]
    },
    {
      "cell_type": "code",
      "execution_count": null,
      "metadata": {
        "id": "ZIQNNG01d7Zf"
      },
      "outputs": [],
      "source": [
        ""
      ]
    },
    {
      "cell_type": "code",
      "execution_count": null,
      "metadata": {
        "id": "W15Y4GpkLiKI"
      },
      "outputs": [],
      "source": [
        "labels = df_dataset_features.iloc[:,[1]]\n",
        "features = df_dataset_features.iloc[:,2:]\n",
        "#y_test = df_test.iloc[:,[1]]\n",
        "#X_test = df_test_features.iloc[:,1:]\n",
        "\n",
        "#分训练集测试集\n",
        "X_train, X_validation, y_train, y_validation = train_test_split(features, labels, test_size=0.05, random_state = 1000)"
      ]
    },
    {
      "cell_type": "code",
      "source": [
        "print(X_train_lda)"
      ],
      "metadata": {
        "colab": {
          "base_uri": "https://localhost:8080/"
        },
        "id": "LeHVnm-1KyIl",
        "outputId": "8270d830-4646-4117-b027-636a8c8e3dcc"
      },
      "execution_count": null,
      "outputs": [
        {
          "output_type": "stream",
          "name": "stdout",
          "text": [
            "[[-0.4312386 ]\n",
            " [ 1.5114172 ]\n",
            " [ 1.33581578]\n",
            " ...\n",
            " [-0.75423561]\n",
            " [-0.00360996]\n",
            " [ 0.56171887]]\n"
          ]
        }
      ]
    },
    {
      "cell_type": "code",
      "execution_count": null,
      "metadata": {
        "colab": {
          "base_uri": "https://localhost:8080/"
        },
        "id": "gR90Iko9OCYK",
        "outputId": "1e27fdbf-ada0-4fbe-9c64-80e39e0ab005"
      },
      "outputs": [
        {
          "output_type": "stream",
          "name": "stdout",
          "text": [
            "       label\n",
            "10162      0\n",
            "5367       1\n",
            "10077      0\n",
            "11103      0\n",
            "4837       1\n",
            "...      ...\n",
            "5291       1\n",
            "3394       1\n",
            "2858       1\n",
            "14259      1\n",
            "11420      0\n",
            "\n",
            "[860 rows x 1 columns]\n",
            "10111\n",
            "0.6144792799920878\n",
            "6213\n",
            "         0    1    2    3    4    5    6    7    8    9  ...  4990  4991  \\\n",
            "14728  0.0  0.0  0.0  0.0  0.0  0.0  0.0  0.0  0.0  0.0  ...   0.0   0.0   \n",
            "197    0.0  0.0  0.0  0.0  0.0  0.0  0.0  0.0  0.0  0.0  ...   0.0   0.0   \n",
            "6844   0.0  0.0  0.0  0.0  0.0  0.0  0.0  0.0  0.0  0.0  ...   0.0   0.0   \n",
            "7608   0.0  0.0  0.0  0.0  0.0  0.0  0.0  0.0  0.0  0.0  ...   0.0   0.0   \n",
            "8985   0.0  0.0  0.0  0.0  0.0  0.0  0.0  0.0  0.0  0.0  ...   0.0   0.0   \n",
            "...    ...  ...  ...  ...  ...  ...  ...  ...  ...  ...  ...   ...   ...   \n",
            "9274   0.0  0.0  0.0  0.0  0.0  0.0  0.0  0.0  0.0  0.0  ...   0.0   0.0   \n",
            "16840  0.0  0.0  0.0  0.0  0.0  0.0  0.0  0.0  0.0  0.0  ...   0.0   0.0   \n",
            "11863  0.0  0.0  0.0  0.0  0.0  0.0  0.0  0.0  0.0  0.0  ...   0.0   0.0   \n",
            "17093  0.0  0.0  0.0  0.0  0.0  0.0  0.0  0.0  0.0  0.0  ...   0.0   0.0   \n",
            "8366   0.0  0.0  0.0  0.0  0.0  0.0  0.0  0.0  0.0  0.0  ...   0.0   0.0   \n",
            "\n",
            "       4992  4993  4994  4995  4996  4997  4998  4999  \n",
            "14728   0.0   0.0   0.0   0.0   0.0   0.0   0.0   0.0  \n",
            "197     0.0   0.0   0.0   0.0   0.0   0.0   0.0   0.0  \n",
            "6844    0.0   0.0   0.0   0.0   0.0   0.0   0.0   0.0  \n",
            "7608    0.0   0.0   0.0   0.0   0.0   0.0   0.0   0.0  \n",
            "8985    0.0   0.0   0.0   0.0   0.0   0.0   0.0   0.0  \n",
            "...     ...   ...   ...   ...   ...   ...   ...   ...  \n",
            "9274    0.0   0.0   0.0   0.0   0.0   0.0   0.0   0.0  \n",
            "16840   0.0   0.0   0.0   0.0   0.0   0.0   0.0   0.0  \n",
            "11863   0.0   0.0   0.0   0.0   0.0   0.0   0.0   0.0  \n",
            "17093   0.0   0.0   0.0   0.0   0.0   0.0   0.0   0.0  \n",
            "8366    0.0   0.0   0.0   0.0   0.0   0.0   0.0   0.0  \n",
            "\n",
            "[16324 rows x 5000 columns]\n",
            "         0    1    2    3    4    5    6    7    8    9  ...  4990  4991  \\\n",
            "10162  0.0  0.0  0.0  0.0  0.0  0.0  0.0  0.0  0.0  0.0  ...   0.0   0.0   \n",
            "5367   0.0  0.0  0.0  0.0  0.0  0.0  0.0  0.0  0.0  0.0  ...   0.0   0.0   \n",
            "10077  0.0  0.0  0.0  0.0  0.0  0.0  0.0  0.0  0.0  0.0  ...   0.0   0.0   \n",
            "11103  0.0  0.0  0.0  0.0  0.0  0.0  0.0  0.0  0.0  0.0  ...   0.0   0.0   \n",
            "4837   0.0  0.0  0.0  0.0  0.0  0.0  0.0  0.0  0.0  0.0  ...   0.0   0.0   \n",
            "...    ...  ...  ...  ...  ...  ...  ...  ...  ...  ...  ...   ...   ...   \n",
            "5291   0.0  0.0  0.0  0.0  0.0  0.0  0.0  0.0  0.0  0.0  ...   0.0   0.0   \n",
            "3394   0.0  0.0  0.0  0.0  0.0  0.0  0.0  0.0  0.0  0.0  ...   0.0   0.0   \n",
            "2858   0.0  0.0  0.0  0.0  0.0  0.0  0.0  0.0  0.0  0.0  ...   0.0   0.0   \n",
            "14259  0.0  0.0  0.0  0.0  0.0  0.0  0.0  0.0  0.0  0.0  ...   0.0   0.0   \n",
            "11420  0.0  0.0  0.0  0.0  0.0  0.0  0.0  0.0  0.0  0.0  ...   0.0   0.0   \n",
            "\n",
            "       4992  4993  4994  4995  4996  4997  4998  4999  \n",
            "10162   0.0   0.0   0.0   0.0   0.0   0.0   0.0   0.0  \n",
            "5367    0.0   0.0   0.0   0.0   0.0   0.0   0.0   0.0  \n",
            "10077   0.0   0.0   0.0   0.0   0.0   0.0   0.0   0.0  \n",
            "11103   0.0   0.0   0.0   0.0   0.0   0.0   0.0   0.0  \n",
            "4837    0.0   0.0   0.0   0.0   0.0   0.0   0.0   0.0  \n",
            "...     ...   ...   ...   ...   ...   ...   ...   ...  \n",
            "5291    0.0   0.0   0.0   0.0   0.0   0.0   0.0   0.0  \n",
            "3394    0.0   0.0   0.0   0.0   0.0   0.0   0.0   0.0  \n",
            "2858    0.0   0.0   0.0   0.0   0.0   0.0   0.0   0.0  \n",
            "14259   0.0   0.0   0.0   0.0   0.0   0.0   0.0   0.0  \n",
            "11420   0.0   0.0   0.0   0.0   0.0   0.0   0.0   0.0  \n",
            "\n",
            "[860 rows x 5000 columns]\n"
          ]
        }
      ],
      "source": [
        "print(y_validation)\n",
        "count = 0\n",
        "for i in y_train['label']:\n",
        "    if i == 1:\n",
        "        count += 1\n",
        "print(len(y_train) - count)\n",
        "print(count/(len(y_train) - count))\n",
        "print(count)\n",
        "print(X_train)\n",
        "print(X_validation)"
      ]
    },
    {
      "cell_type": "code",
      "execution_count": null,
      "metadata": {
        "id": "n_2kn-AHd-m0"
      },
      "outputs": [],
      "source": [
        "def my_custom_loss_func(y_true, y_pred):\n",
        "    pos_f1 = metrics.f1_score(y_validation, y_pred_validation, pos_label=1 )\n",
        "    neg_f1 = metrics.f1_score(y_validation, y_pred_validation, pos_label=0 )\n",
        "    macro_f1 = (pos_f1 + neg_f1)/2  \n",
        "    return macro_f1\n",
        "\n",
        "macro_f1 = make_scorer(my_custom_loss_func, greater_is_better=True)"
      ]
    },
    {
      "cell_type": "code",
      "execution_count": null,
      "metadata": {
        "id": "b07e6pA1-N6c"
      },
      "outputs": [],
      "source": [
        "model = RandomForestClassifier(n_estimators=100, \n",
        "                               #max_depth = 1000, \n",
        "                               min_samples_split = 5,\n",
        "                               #max_leaf_nodes = 800,##\n",
        "                               class_weight = {0:1, 1:2},\n",
        "                               random_state = 4)"
      ]
    },
    {
      "cell_type": "code",
      "execution_count": null,
      "metadata": {
        "colab": {
          "base_uri": "https://localhost:8080/"
        },
        "id": "6fXjbWGVBb1m",
        "outputId": "f6cc8ab6-3481-4895-8d7e-2cd163218c92"
      },
      "outputs": [
        {
          "output_type": "stream",
          "name": "stderr",
          "text": [
            "/usr/local/lib/python3.7/dist-packages/ipykernel_launcher.py:1: DataConversionWarning: A column-vector y was passed when a 1d array was expected. Please change the shape of y to (n_samples,), for example using ravel().\n",
            "  \"\"\"Entry point for launching an IPython kernel.\n"
          ]
        },
        {
          "output_type": "execute_result",
          "data": {
            "text/plain": [
              "RandomForestClassifier(class_weight={0: 1, 1: 2}, min_samples_split=5,\n",
              "                       random_state=4)"
            ]
          },
          "metadata": {},
          "execution_count": 233
        }
      ],
      "source": [
        "model.fit(features,labels)"
      ]
    },
    {
      "cell_type": "code",
      "source": [
        "print(model.decision_path)"
      ],
      "metadata": {
        "colab": {
          "base_uri": "https://localhost:8080/"
        },
        "id": "WuunLq3x7G9g",
        "outputId": "261011aa-2c6c-48ee-f554-ccfb38810bf5"
      },
      "execution_count": null,
      "outputs": [
        {
          "output_type": "stream",
          "name": "stdout",
          "text": [
            "<bound method BaseForest.decision_path of RandomForestClassifier(class_weight={0: 1, 1: 2}, min_samples_split=5,\n",
            "                       random_state=4)>\n"
          ]
        }
      ]
    },
    {
      "cell_type": "code",
      "execution_count": null,
      "metadata": {
        "colab": {
          "base_uri": "https://localhost:8080/"
        },
        "id": "uuED2PikRCEr",
        "outputId": "e4371cad-006c-499f-bdde-24e962e2fdab"
      },
      "outputs": [
        {
          "output_type": "stream",
          "name": "stdout",
          "text": [
            "0.9966777408637874\n",
            "0.998211091234347\n",
            "validation_macro_f1 : 0.9974\n",
            "validation_acc: 0.9977\n"
          ]
        }
      ],
      "source": [
        "y_validation, y_pred_validation = y_validation, model.predict(X_validation)\n",
        "\n",
        "threshold = 0.5\n",
        "for i in range(len(y_pred_validation)):\n",
        "    y_pred_validation[i] = 1 if y_pred_validation[i] > threshold else 0\n",
        "pos_f1 = metrics.f1_score(y_validation, y_pred_validation, pos_label=1 )\n",
        "neg_f1 = metrics.f1_score(y_validation, y_pred_validation, pos_label=0 )\n",
        "macro_f1 = (pos_f1 + neg_f1)/2\n",
        "print(pos_f1)\n",
        "print(neg_f1)\n",
        "print(\"validation_macro_f1 : %.4g\" % macro_f1)  \n",
        "print(\"validation_acc: %.4g\"% metrics.accuracy_score(y_validation, y_pred_validation))"
      ]
    },
    {
      "cell_type": "code",
      "execution_count": null,
      "metadata": {
        "colab": {
          "base_uri": "https://localhost:8080/"
        },
        "id": "OBK_SXcSnIFA",
        "outputId": "3119eac7-1a6b-41a8-d960-76268807f97e"
      },
      "outputs": [
        {
          "output_type": "stream",
          "name": "stdout",
          "text": [
            "[1 1 0 ... 0 0 0]\n",
            "0.9931056597723265\n",
            "0.9957370873401408\n",
            "train_macro_f1 : 0.9944\n",
            "train_acc: 0.9947\n"
          ]
        }
      ],
      "source": [
        "y_train, y_pred_train = y_train, model.predict(X_train)\n",
        "\n",
        "threshold = 0.5\n",
        "for i in range(len(y_pred_train)):\n",
        "    y_pred_train[i] = 1 if y_pred_train[i] > threshold else 0\n",
        "print(y_pred_train)\n",
        "pos_f1 = metrics.f1_score(y_train, y_pred_train, pos_label=1 )\n",
        "neg_f1 = metrics.f1_score(y_train, y_pred_train, pos_label=0 )\n",
        "macro_f1 = (pos_f1 + neg_f1)/2\n",
        "print(pos_f1)\n",
        "print(neg_f1)\n",
        "print(\"train_macro_f1 : %.4g\" % macro_f1)  \n",
        "print(\"train_acc: %.4g\"% metrics.accuracy_score(y_train, y_pred_train))"
      ]
    },
    {
      "cell_type": "code",
      "execution_count": null,
      "metadata": {
        "id": "FkbBhqmW73Pv"
      },
      "outputs": [],
      "source": [
        "X_test = df_test_features.iloc[:,1:]"
      ]
    },
    {
      "cell_type": "code",
      "execution_count": null,
      "metadata": {
        "colab": {
          "base_uri": "https://localhost:8080/"
        },
        "id": "vOGSfwtvhv-R",
        "outputId": "66120427-cc9e-426a-b55f-f6b120ba3685"
      },
      "outputs": [
        {
          "output_type": "stream",
          "name": "stdout",
          "text": [
            "        0    1    2    3    4    5    6    7    8    9  ...  4990  4991  4992  \\\n",
            "0     0.0  0.0  0.0  0.0  0.0  0.0  0.0  0.0  0.0  0.0  ...   0.0   0.0   0.0   \n",
            "1     0.0  0.0  0.0  0.0  0.0  0.0  0.0  0.0  0.0  0.0  ...   0.0   0.0   0.0   \n",
            "2     0.0  0.0  0.0  0.0  0.0  0.0  0.0  0.0  0.0  0.0  ...   0.0   0.0   0.0   \n",
            "3     0.0  0.0  0.0  0.0  0.0  0.0  0.0  0.0  0.0  0.0  ...   0.0   0.0   0.0   \n",
            "4     0.0  0.0  0.0  0.0  0.0  0.0  0.0  0.0  0.0  0.0  ...   0.0   0.0   0.0   \n",
            "...   ...  ...  ...  ...  ...  ...  ...  ...  ...  ...  ...   ...   ...   ...   \n",
            "4291  0.0  0.0  0.0  0.0  0.0  0.0  0.0  0.0  0.0  0.0  ...   0.0   0.0   0.0   \n",
            "4292  0.0  0.0  0.0  0.0  0.0  0.0  0.0  0.0  0.0  0.0  ...   0.0   0.0   0.0   \n",
            "4293  0.0  0.0  0.0  0.0  0.0  0.0  0.0  0.0  0.0  0.0  ...   0.0   0.0   0.0   \n",
            "4294  0.0  0.0  0.0  0.0  0.0  0.0  0.0  0.0  0.0  0.0  ...   0.0   0.0   0.0   \n",
            "4295  0.0  0.0  0.0  0.0  0.0  0.0  0.0  0.0  0.0  0.0  ...   0.0   0.0   0.0   \n",
            "\n",
            "      4993  4994  4995  4996  4997  4998  4999  \n",
            "0      0.0   0.0   0.0   0.0   0.0   0.0   0.0  \n",
            "1      0.0   0.0   0.0   0.0   0.0   0.0   0.0  \n",
            "2      0.0   0.0   0.0   0.0   0.0   0.0   0.0  \n",
            "3      0.0   0.0   0.0   0.0   0.0   0.0   0.0  \n",
            "4      0.0   0.0   0.0   0.0   0.0   0.0   0.0  \n",
            "...    ...   ...   ...   ...   ...   ...   ...  \n",
            "4291   0.0   0.0   0.0   0.0   0.0   0.0   0.0  \n",
            "4292   0.0   0.0   0.0   0.0   0.0   0.0   0.0  \n",
            "4293   0.0   0.0   0.0   0.0   0.0   0.0   0.0  \n",
            "4294   0.0   0.0   0.0   0.0   0.0   0.0   0.0  \n",
            "4295   0.0   0.0   0.0   0.0   0.0   0.0   0.0  \n",
            "\n",
            "[4296 rows x 5000 columns]\n"
          ]
        }
      ],
      "source": [
        "print(X_test)"
      ]
    },
    {
      "cell_type": "code",
      "execution_count": null,
      "metadata": {
        "id": "LMO5yVxihheq"
      },
      "outputs": [],
      "source": [
        "y_test = model.predict(X_test)"
      ]
    },
    {
      "cell_type": "code",
      "execution_count": null,
      "metadata": {
        "colab": {
          "base_uri": "https://localhost:8080/"
        },
        "id": "O9PCguXuh9Hu",
        "outputId": "02f6e96b-2888-47e2-edb5-bdbe5026db17"
      },
      "outputs": [
        {
          "output_type": "stream",
          "name": "stdout",
          "text": [
            "[1 0 1 ... 1 0 1]\n"
          ]
        }
      ],
      "source": [
        "print(y_test)"
      ]
    },
    {
      "cell_type": "code",
      "execution_count": null,
      "metadata": {
        "colab": {
          "base_uri": "https://localhost:8080/"
        },
        "id": "KxpjzG47ixU2",
        "outputId": "dadc41aa-01ac-4c09-d8a9-918a177c772b"
      },
      "outputs": [
        {
          "output_type": "stream",
          "name": "stdout",
          "text": [
            "       label\n",
            "id          \n",
            "17185      1\n",
            "17186      0\n",
            "17187      1\n",
            "17188      0\n",
            "17189      0\n",
            "...      ...\n",
            "21476      1\n",
            "21477      1\n",
            "21478      1\n",
            "21479      0\n",
            "21480      1\n",
            "\n",
            "[4296 rows x 1 columns]\n"
          ]
        }
      ],
      "source": [
        "x = df_test\n",
        "x = x.set_index(\"id\")\n",
        "x = x.drop(\"post\", axis = 1)\n",
        "x[\"label\"] = y_test\n",
        "print(x)\n",
        "x.to_csv(\"/content/drive/MyDrive/50.007kaggle/submit.csv\")"
      ]
    }
  ],
  "metadata": {
    "accelerator": "GPU",
    "colab": {
      "collapsed_sections": [],
      "name": "randomforest",
      "provenance": [],
      "machine_shape": "hm",
      "mount_file_id": "1UhkVzKCI8AEiC-ywoWL5JAIR0Amb9s7e",
      "authorship_tag": "ABX9TyNQQxewmGYtXl4XxzaxqaaE",
      "include_colab_link": true
    },
    "gpuClass": "standard",
    "kernelspec": {
      "display_name": "Python 3",
      "name": "python3"
    },
    "language_info": {
      "name": "python"
    }
  },
  "nbformat": 4,
  "nbformat_minor": 0
}