{
  "cells": [
    {
      "cell_type": "markdown",
      "metadata": {
        "id": "view-in-github",
        "colab_type": "text"
      },
      "source": [
        "<a href=\"https://colab.research.google.com/github/yhc-666/hate-speech-detection/blob/master/randomforest_with_kfold.ipynb\" target=\"_parent\"><img src=\"https://colab.research.google.com/assets/colab-badge.svg\" alt=\"Open In Colab\"/></a>"
      ]
    },
    {
      "cell_type": "code",
      "execution_count": 1,
      "metadata": {
        "colab": {
          "base_uri": "https://localhost:8080/"
        },
        "id": "W_Hj42M9GVa0",
        "outputId": "c7061ec8-8ab9-4cac-c1e3-c9c114014c43"
      },
      "outputs": [
        {
          "output_type": "stream",
          "name": "stdout",
          "text": [
            "Mounted at /content/drive\n"
          ]
        }
      ],
      "source": [
        "from google.colab import drive\n",
        "drive.mount('/content/drive')"
      ]
    },
    {
      "cell_type": "code",
      "execution_count": 2,
      "metadata": {
        "id": "gdIbGzE-Pa9e"
      },
      "outputs": [],
      "source": [
        "from sklearn.model_selection import KFold, StratifiedKFold, cross_val_score\n",
        "import pandas as pd\n",
        "import matplotlib.pyplot as plt\n",
        "from sklearn import datasets\n",
        "from sklearn.metrics import accuracy_score\n",
        "from sklearn import metrics\n",
        "from sklearn.metrics import make_scorer\n",
        "from sklearn.ensemble import RandomForestClassifier\n",
        "import matplotlib.pyplot as plt\n",
        "import numpy as np"
      ]
    },
    {
      "cell_type": "code",
      "execution_count": 3,
      "metadata": {
        "colab": {
          "base_uri": "https://localhost:8080/"
        },
        "id": "k5ygKvivXE9-",
        "outputId": "fabb49fa-f85e-4e76-ec96-13de1372c03e"
      },
      "outputs": [
        {
          "output_type": "stream",
          "name": "stdout",
          "text": [
            "Wed Jul 20 17:50:28 2022       \n",
            "+-----------------------------------------------------------------------------+\n",
            "| NVIDIA-SMI 460.32.03    Driver Version: 460.32.03    CUDA Version: 11.2     |\n",
            "|-------------------------------+----------------------+----------------------+\n",
            "| GPU  Name        Persistence-M| Bus-Id        Disp.A | Volatile Uncorr. ECC |\n",
            "| Fan  Temp  Perf  Pwr:Usage/Cap|         Memory-Usage | GPU-Util  Compute M. |\n",
            "|                               |                      |               MIG M. |\n",
            "|===============================+======================+======================|\n",
            "|   0  Tesla T4            Off  | 00000000:00:04.0 Off |                    0 |\n",
            "| N/A   35C    P8    10W /  70W |      0MiB / 15109MiB |      0%      Default |\n",
            "|                               |                      |                  N/A |\n",
            "+-------------------------------+----------------------+----------------------+\n",
            "                                                                               \n",
            "+-----------------------------------------------------------------------------+\n",
            "| Processes:                                                                  |\n",
            "|  GPU   GI   CI        PID   Type   Process name                  GPU Memory |\n",
            "|        ID   ID                                                   Usage      |\n",
            "|=============================================================================|\n",
            "|  No running processes found                                                 |\n",
            "+-----------------------------------------------------------------------------+\n"
          ]
        }
      ],
      "source": [
        "gpu_info = !nvidia-smi\n",
        "gpu_info = '\\n'.join(gpu_info)\n",
        "if gpu_info.find('failed') >= 0:\n",
        "  print('Not connected to a GPU')\n",
        "else:\n",
        "  print(gpu_info)"
      ]
    },
    {
      "cell_type": "code",
      "execution_count": 4,
      "metadata": {
        "id": "YjbwQqEjHyBx"
      },
      "outputs": [],
      "source": [
        "df_dataset = pd.read_csv('/content/drive/MyDrive/50.007kaggle/train.csv')\n",
        "df_test = pd.read_csv('/content/drive/MyDrive/50.007kaggle/test.csv')\n",
        "df_dataset_features = pd.read_csv(\"/content/drive/MyDrive/50.007kaggle/train_tfidf_features.csv\")\n",
        "df_test_features = pd.read_csv(\"/content/drive/MyDrive/50.007kaggle/test_tfidf_features.csv\")\n",
        "samplesubmit = pd.read_csv(\"/content/drive/MyDrive/50.007kaggle/sample_submission.csv\")"
      ]
    },
    {
      "cell_type": "code",
      "execution_count": null,
      "metadata": {
        "colab": {
          "base_uri": "https://localhost:8080/"
        },
        "id": "5-yCmXKwobCZ",
        "outputId": "358a2b97-bd86-4f12-e7d2-4e20ec85654b"
      },
      "outputs": [
        {
          "name": "stdout",
          "output_type": "stream",
          "text": [
            "(4296, 2)\n"
          ]
        }
      ],
      "source": [
        "print(samplesubmit.shape)"
      ]
    },
    {
      "cell_type": "code",
      "execution_count": 5,
      "metadata": {
        "id": "W15Y4GpkLiKI"
      },
      "outputs": [],
      "source": [
        "y = df_dataset_features.iloc[:,[1]]\n",
        "X = df_dataset_features.iloc[:,2:]"
      ]
    },
    {
      "cell_type": "markdown",
      "source": [
        "## STEP1: Use cross validation to find optimum hyper parameters"
      ],
      "metadata": {
        "id": "GkTiMai7dBWi"
      }
    },
    {
      "cell_type": "code",
      "source": [
        "cv = StratifiedKFold(n_splits=10, shuffle=True, random_state=42)"
      ],
      "metadata": {
        "id": "Nvqo5K_gdIW6"
      },
      "execution_count": 8,
      "outputs": []
    },
    {
      "cell_type": "code",
      "source": [
        "cnt = 1\n",
        "for train_index, validation_index in cv.split(X, y):\n",
        "    print(f'Fold:{cnt}, Train set: {len(train_index)}, Validation set:{len(validation_index)}')\n",
        "    cnt += 1"
      ],
      "metadata": {
        "colab": {
          "base_uri": "https://localhost:8080/"
        },
        "id": "VEOH_n1CdOtj",
        "outputId": "51dc9508-044e-407e-ebf7-db9865e55486"
      },
      "execution_count": null,
      "outputs": [
        {
          "output_type": "stream",
          "name": "stdout",
          "text": [
            "Fold:1, Train set: 15465, Validation set:1719\n",
            "Fold:2, Train set: 15465, Validation set:1719\n",
            "Fold:3, Train set: 15465, Validation set:1719\n",
            "Fold:4, Train set: 15465, Validation set:1719\n",
            "Fold:5, Train set: 15466, Validation set:1718\n",
            "Fold:6, Train set: 15466, Validation set:1718\n",
            "Fold:7, Train set: 15466, Validation set:1718\n",
            "Fold:8, Train set: 15466, Validation set:1718\n",
            "Fold:9, Train set: 15466, Validation set:1718\n",
            "Fold:10, Train set: 15466, Validation set:1718\n"
          ]
        }
      ]
    },
    {
      "cell_type": "code",
      "execution_count": null,
      "metadata": {
        "id": "n_2kn-AHd-m0"
      },
      "outputs": [],
      "source": [
        "def my_custom_loss_func(y_true, y_pred):\n",
        "    pos_f1 = metrics.f1_score(y_validation, y_pred_validation, pos_label=1 )\n",
        "    neg_f1 = metrics.f1_score(y_validation, y_pred_validation, pos_label=0 )\n",
        "    macro_f1 = (pos_f1 + neg_f1)/2  \n",
        "    return macro_f1\n",
        "\n",
        "macro_f1 = make_scorer(my_custom_loss_func, greater_is_better=True)"
      ]
    },
    {
      "cell_type": "code",
      "execution_count": null,
      "metadata": {
        "id": "b07e6pA1-N6c"
      },
      "outputs": [],
      "source": [
        "model = RandomForestClassifier(n_estimators=100, \n",
        "                               #max_depth = 1000, \n",
        "                               min_samples_split = 5,\n",
        "                               #max_leaf_nodes = 800,##\n",
        "                               class_weight = {0:1, 1:2},\n",
        "                               random_state = 4)"
      ]
    },
    {
      "cell_type": "markdown",
      "source": [
        "### 首先调n_estimators"
      ],
      "metadata": {
        "id": "iy8D4sUbeXKi"
      }
    },
    {
      "cell_type": "code",
      "source": [
        "score_lt = []\n",
        "\n",
        "# 每隔10步建立一个随机森林，获得不同n_estimators的得分\n",
        "for i in range(20,201,10):\n",
        "    model = RandomForestClassifier(n_estimators=i, \n",
        "                               #max_depth = 1000, \n",
        "                               min_samples_split = 5,\n",
        "                               #max_leaf_nodes = 800,##\n",
        "                               class_weight = {0:1, 1:2},\n",
        "                               random_state = 4)\n",
        "    score = cross_val_score(model, X, y, cv=cv, scoring=\"f1_macro\", verbose = 2).mean()\n",
        "    score_lt.append(score)"
      ],
      "metadata": {
        "id": "Tan3aoUYeiMU"
      },
      "execution_count": null,
      "outputs": []
    },
    {
      "cell_type": "code",
      "source": [
        "x = np.arange(20, 201, 10)\n",
        "plt.subplot(111)\n",
        "plt.plot(x, score_lt,'o-')\n",
        "plt.show()"
      ],
      "metadata": {
        "colab": {
          "base_uri": "https://localhost:8080/",
          "height": 265
        },
        "id": "E6Yc7epUdbry",
        "outputId": "6a918ba4-b1b4-431e-b3cd-21e5492b096a"
      },
      "execution_count": null,
      "outputs": [
        {
          "output_type": "display_data",
          "data": {
            "text/plain": [
              "<Figure size 432x288 with 1 Axes>"
            ],
            "image/png": "[encoded data removed]"
          },
          "metadata": {
            "needs_background": "light"
          }
        }
      ]
    },
    {
      "cell_type": "code",
      "source": [
        "score_max = max(score_lt)\n",
        "print('highest macro f1 score：{}'.format(score_max),\n",
        "      'num_estimators：{}'.format(score_lt.index(score_max)*10+21))"
      ],
      "metadata": {
        "colab": {
          "base_uri": "https://localhost:8080/"
        },
        "id": "7nbe-zThKeqd",
        "outputId": "bcb27d58-6bc6-4c32-bfa5-455178de20a8"
      },
      "execution_count": null,
      "outputs": [
        {
          "output_type": "stream",
          "name": "stdout",
          "text": [
            "highest macro f1 score：0.7107317680382209 num_estimators：131\n"
          ]
        }
      ]
    },
    {
      "cell_type": "markdown",
      "source": [
        "### 再调 min samples split"
      ],
      "metadata": {
        "id": "WASYVj8ICpPs"
      }
    },
    {
      "cell_type": "code",
      "source": [
        "score_lt = []\n",
        "\n",
        "# 每隔10步建立一个随机森林，获得不同n_estimators的得分\n",
        "for i in range(2,13,1):\n",
        "    model = RandomForestClassifier(n_estimators= 131, \n",
        "                               #max_depth = 1000, \n",
        "                               min_samples_split = i,\n",
        "                               #max_leaf_nodes = 800,##\n",
        "                               class_weight = {0:1, 1:2},\n",
        "                               random_state = 4)\n",
        "    score = cross_val_score(model, X, y, cv=cv, scoring=\"f1_macro\", verbose = 2).mean()\n",
        "    score_lt.append(score)"
      ],
      "metadata": {
        "id": "37SwemZsCySd"
      },
      "execution_count": null,
      "outputs": []
    },
    {
      "cell_type": "code",
      "source": [
        "x = np.arange(2, 13, 1)\n",
        "plt.subplot(111)\n",
        "plt.plot(x, score_lt,'o-')\n",
        "plt.show()"
      ],
      "metadata": {
        "colab": {
          "base_uri": "https://localhost:8080/",
          "height": 265
        },
        "id": "icI_AXVWCyZv",
        "outputId": "45a4ca58-0665-4297-e2de-8dba561bbebd"
      },
      "execution_count": null,
      "outputs": [
        {
          "output_type": "display_data",
          "data": {
            "text/plain": [
              "<Figure size 432x288 with 1 Axes>"
            ],
            "image/png": "[encoded data removed]"
          },
          "metadata": {
            "needs_background": "light"
          }
        }
      ]
    },
    {
      "cell_type": "code",
      "source": [
        "score_max = max(score_lt)\n",
        "print('highest macro f1 score：{}'.format(score_max),\n",
        "      'best_min_sample_split：{}'.format(score_lt.index(score_max)*1+2))"
      ],
      "metadata": {
        "colab": {
          "base_uri": "https://localhost:8080/"
        },
        "id": "fGikyeHIgpuD",
        "outputId": "178b308e-3e43-42df-de05-b27551002bf2"
      },
      "execution_count": null,
      "outputs": [
        {
          "output_type": "stream",
          "name": "stdout",
          "text": [
            "highest macro f1 score：0.7132696428050758 best_min_sample_split：10\n"
          ]
        }
      ]
    },
    {
      "cell_type": "markdown",
      "source": [
        "### 调class weight"
      ],
      "metadata": {
        "id": "FNBDeJsuuVC2"
      }
    },
    {
      "cell_type": "code",
      "source": [
        "score_lt = []\n",
        "\n",
        "# 每隔10步建立一个随机森林，获得不同n_estimators的得分\n",
        "for i in np.arange(1.2, 2.85, 0.05):\n",
        "    model = RandomForestClassifier(n_estimators= 131, \n",
        "                               #max_depth = 1000, \n",
        "                               min_samples_split = 5,\n",
        "                               #max_leaf_nodes = 800,##\n",
        "                               class_weight = {0:1, 1:i},\n",
        "                               random_state = 4)\n",
        "    score = cross_val_score(model, X, y, cv=cv, scoring=\"f1_macro\", verbose = 2).mean()\n",
        "    score_lt.append(score)"
      ],
      "metadata": {
        "colab": {
          "base_uri": "https://localhost:8080/"
        },
        "id": "R8VNqoTXuhoi",
        "outputId": "335cc71c-c8e9-4f92-82b6-e2046f36ed1f"
      },
      "execution_count": null,
      "outputs": [
        {
          "output_type": "stream",
          "name": "stderr",
          "text": [
            "[Parallel(n_jobs=1)]: Using backend SequentialBackend with 1 concurrent workers.\n",
            "/usr/local/lib/python3.7/dist-packages/sklearn/model_selection/_validation.py:680: DataConversionWarning: A column-vector y was passed when a 1d array was expected. Please change the shape of y to (n_samples,), for example using ravel().\n",
            "  estimator.fit(X_train, y_train, **fit_params)\n"
          ]
        },
        {
          "output_type": "stream",
          "name": "stdout",
          "text": [
            "[CV] END .................................................... total time= 1.3min\n"
          ]
        },
        {
          "output_type": "stream",
          "name": "stderr",
          "text": [
            "[Parallel(n_jobs=1)]: Done   1 out of   1 | elapsed:  1.3min remaining:    0.0s\n",
            "/usr/local/lib/python3.7/dist-packages/sklearn/model_selection/_validation.py:680: DataConversionWarning: A column-vector y was passed when a 1d array was expected. Please change the shape of y to (n_samples,), for example using ravel().\n",
            "  estimator.fit(X_train, y_train, **fit_params)\n"
          ]
        },
        {
          "output_type": "stream",
          "name": "stdout",
          "text": [
            "[CV] END .................................................... total time= 1.3min\n"
          ]
        },
        {
          "output_type": "stream",
          "name": "stderr",
          "text": [
            "/usr/local/lib/python3.7/dist-packages/sklearn/model_selection/_validation.py:680: DataConversionWarning: A column-vector y was passed when a 1d array was expected. Please change the shape of y to (n_samples,), for example using ravel().\n",
            "  estimator.fit(X_train, y_train, **fit_params)\n"
          ]
        }
      ]
    },
    {
      "cell_type": "code",
      "source": [
        "x = np.arange(1.2, 2.85, 0.05)\n",
        "plt.subplot(111)\n",
        "plt.plot(x, score_lt,'o-')\n",
        "plt.show()"
      ],
      "metadata": {
        "id": "l-5oC2xbukB4"
      },
      "execution_count": null,
      "outputs": []
    },
    {
      "cell_type": "code",
      "source": [
        "score_max = max(score_lt)\n",
        "print('highest macro f1 score：{}'.format(score_max),\n",
        "      'best_class_weight：{}'.format(score_lt.index(score_max) * 0.05 + 1.2))"
      ],
      "metadata": {
        "id": "iuTgbVOUumjB"
      },
      "execution_count": null,
      "outputs": []
    },
    {
      "cell_type": "markdown",
      "source": [
        "## 2. Train the fine tuned model on the whole dataset to get our final model"
      ],
      "metadata": {
        "id": "7lh8Ne12hRNj"
      }
    },
    {
      "cell_type": "code",
      "source": [
        "final_model = RandomForestClassifier(n_estimators=131, \n",
        "                               #max_depth = 1000, \n",
        "                               min_samples_split = 10,\n",
        "                               #max_leaf_nodes = 800,##\n",
        "                               class_weight = {0:1, 1:2},\n",
        "                               random_state = 4)"
      ],
      "metadata": {
        "id": "bPu2E8O9hbUG"
      },
      "execution_count": null,
      "outputs": []
    },
    {
      "cell_type": "code",
      "source": [
        "final_model.fit(X,y)"
      ],
      "metadata": {
        "colab": {
          "base_uri": "https://localhost:8080/"
        },
        "id": "dF0gPzGshkT8",
        "outputId": "a79d6326-7625-4a5b-9081-fb45e5c9b228"
      },
      "execution_count": null,
      "outputs": [
        {
          "output_type": "stream",
          "name": "stderr",
          "text": [
            "/usr/local/lib/python3.7/dist-packages/ipykernel_launcher.py:1: DataConversionWarning: A column-vector y was passed when a 1d array was expected. Please change the shape of y to (n_samples,), for example using ravel().\n",
            "  \"\"\"Entry point for launching an IPython kernel.\n"
          ]
        },
        {
          "output_type": "execute_result",
          "data": {
            "text/plain": [
              "RandomForestClassifier(class_weight={0: 1, 1: 2}, min_samples_split=10,\n",
              "                       n_estimators=131, random_state=4)"
            ]
          },
          "metadata": {},
          "execution_count": 16
        }
      ]
    },
    {
      "cell_type": "code",
      "execution_count": null,
      "metadata": {
        "colab": {
          "base_uri": "https://localhost:8080/"
        },
        "id": "uuED2PikRCEr",
        "outputId": "df129218-4758-48eb-bae0-1ec3a334d097"
      },
      "outputs": [
        {
          "output_type": "stream",
          "name": "stdout",
          "text": [
            "0.9887708649468893\n",
            "0.9930149141023221\n",
            "macro_f1 : 0.9909\n",
            "acc: 0.9914\n"
          ]
        }
      ],
      "source": [
        "y, y_pred = y, final_model.predict(X)\n",
        "\n",
        "threshold = 0.5\n",
        "for i in range(len(y_pred)):\n",
        "    y_pred[i] = 1 if y_pred[i] > threshold else 0\n",
        "pos_f1 = metrics.f1_score(y, y_pred, pos_label=1 )\n",
        "neg_f1 = metrics.f1_score(y, y_pred, pos_label=0 )\n",
        "macro_f1 = (pos_f1 + neg_f1)/2\n",
        "print(pos_f1)\n",
        "print(neg_f1)\n",
        "print(\"macro_f1 : %.4g\" % macro_f1)  \n",
        "print(\"acc: %.4g\"% metrics.accuracy_score(y, y_pred))"
      ]
    },
    {
      "cell_type": "code",
      "execution_count": null,
      "metadata": {
        "id": "FkbBhqmW73Pv"
      },
      "outputs": [],
      "source": [
        "X_test = df_test_features.iloc[:,1:]"
      ]
    },
    {
      "cell_type": "code",
      "execution_count": null,
      "metadata": {
        "id": "LMO5yVxihheq"
      },
      "outputs": [],
      "source": [
        "y_test = final_model.predict(X_test)"
      ]
    },
    {
      "cell_type": "code",
      "execution_count": null,
      "metadata": {
        "colab": {
          "base_uri": "https://localhost:8080/"
        },
        "id": "O9PCguXuh9Hu",
        "outputId": "d86698e9-bd1b-4c80-f402-25afaec7a5f4"
      },
      "outputs": [
        {
          "output_type": "stream",
          "name": "stdout",
          "text": [
            "[1 0 1 ... 1 0 0]\n"
          ]
        }
      ],
      "source": [
        "print(y_test)"
      ]
    },
    {
      "cell_type": "code",
      "execution_count": null,
      "metadata": {
        "colab": {
          "base_uri": "https://localhost:8080/"
        },
        "id": "KxpjzG47ixU2",
        "outputId": "b107663a-35ef-4401-81ce-fb2c8e6e156c"
      },
      "outputs": [
        {
          "output_type": "stream",
          "name": "stdout",
          "text": [
            "       label\n",
            "id          \n",
            "17185      1\n",
            "17186      0\n",
            "17187      1\n",
            "17188      0\n",
            "17189      0\n",
            "...      ...\n",
            "21476      1\n",
            "21477      1\n",
            "21478      1\n",
            "21479      0\n",
            "21480      0\n",
            "\n",
            "[4296 rows x 1 columns]\n"
          ]
        }
      ],
      "source": [
        "x = df_test\n",
        "x = x.set_index(\"id\")\n",
        "x = x.drop(\"post\", axis = 1)\n",
        "x[\"label\"] = y_test\n",
        "print(x)\n",
        "x.to_csv(\"/content/drive/MyDrive/50.007kaggle/submit.csv\")"
      ]
    }
  ],
  "metadata": {
    "accelerator": "GPU",
    "colab": {
      "collapsed_sections": [],
      "name": "randomforest_with_kfold",
      "provenance": [],
      "machine_shape": "hm",
      "mount_file_id": "1UhkVzKCI8AEiC-ywoWL5JAIR0Amb9s7e",
      "authorship_tag": "ABX9TyOKOTPAISuV1VE2qbN1D27N",
      "include_colab_link": true
    },
    "gpuClass": "standard",
    "kernelspec": {
      "display_name": "Python 3",
      "name": "python3"
    },
    "language_info": {
      "name": "python"
    }
  },
  "nbformat": 4,
  "nbformat_minor": 0
}