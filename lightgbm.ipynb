{
  "cells": [
    {
      "cell_type": "markdown",
      "metadata": {
        "id": "view-in-github",
        "colab_type": "text"
      },
      "source": [
        "<a href=\"https://colab.research.google.com/github/yhc-666/hate-speech-detection/blob/master/lightgbm.ipynb\" target=\"_parent\"><img src=\"https://colab.research.google.com/assets/colab-badge.svg\" alt=\"Open In Colab\"/></a>"
      ]
    },
    {
      "cell_type": "code",
      "execution_count": 1,
      "metadata": {
        "colab": {
          "base_uri": "https://localhost:8080/"
        },
        "id": "W_Hj42M9GVa0",
        "outputId": "29e72b69-29f3-4f70-b087-4343a23ed1c0"
      },
      "outputs": [
        {
          "output_type": "stream",
          "name": "stdout",
          "text": [
            "Mounted at /content/drive\n"
          ]
        }
      ],
      "source": [
        "from google.colab import drive\n",
        "drive.mount('/content/drive')"
      ]
    },
    {
      "cell_type": "code",
      "execution_count": 2,
      "metadata": {
        "id": "gdIbGzE-Pa9e"
      },
      "outputs": [],
      "source": [
        "from sklearn.model_selection import train_test_split\n",
        "import pandas as pd\n",
        "import matplotlib.pyplot as plt\n",
        "from sklearn import datasets\n",
        "from sklearn.metrics import accuracy_score\n",
        "from sklearn import metrics\n",
        "from sklearn.metrics import make_scorer\n",
        "import lightgbm as lgb\n"
      ]
    },
    {
      "cell_type": "code",
      "execution_count": 3,
      "metadata": {
        "colab": {
          "base_uri": "https://localhost:8080/"
        },
        "id": "k5ygKvivXE9-",
        "outputId": "fed8bdd3-955e-4097-895e-bb0c6d3ae9cc"
      },
      "outputs": [
        {
          "output_type": "stream",
          "name": "stdout",
          "text": [
            "Sat Jul 16 14:56:09 2022       \n",
            "+-----------------------------------------------------------------------------+\n",
            "| NVIDIA-SMI 460.32.03    Driver Version: 460.32.03    CUDA Version: 11.2     |\n",
            "|-------------------------------+----------------------+----------------------+\n",
            "| GPU  Name        Persistence-M| Bus-Id        Disp.A | Volatile Uncorr. ECC |\n",
            "| Fan  Temp  Perf  Pwr:Usage/Cap|         Memory-Usage | GPU-Util  Compute M. |\n",
            "|                               |                      |               MIG M. |\n",
            "|===============================+======================+======================|\n",
            "|   0  Tesla P100-PCIE...  Off  | 00000000:00:04.0 Off |                    0 |\n",
            "| N/A   38C    P0    29W / 250W |      0MiB / 16280MiB |      0%      Default |\n",
            "|                               |                      |                  N/A |\n",
            "+-------------------------------+----------------------+----------------------+\n",
            "                                                                               \n",
            "+-----------------------------------------------------------------------------+\n",
            "| Processes:                                                                  |\n",
            "|  GPU   GI   CI        PID   Type   Process name                  GPU Memory |\n",
            "|        ID   ID                                                   Usage      |\n",
            "|=============================================================================|\n",
            "|  No running processes found                                                 |\n",
            "+-----------------------------------------------------------------------------+\n"
          ]
        }
      ],
      "source": [
        "gpu_info = !nvidia-smi\n",
        "gpu_info = '\\n'.join(gpu_info)\n",
        "if gpu_info.find('failed') >= 0:\n",
        "  print('Not connected to a GPU')\n",
        "else:\n",
        "  print(gpu_info)"
      ]
    },
    {
      "cell_type": "code",
      "execution_count": 4,
      "metadata": {
        "id": "YjbwQqEjHyBx"
      },
      "outputs": [],
      "source": [
        "df_dataset = pd.read_csv('/content/drive/MyDrive/50.007kaggle/train.csv')\n",
        "df_test = pd.read_csv('/content/drive/MyDrive/50.007kaggle/test.csv')\n",
        "df_dataset_features = pd.read_csv(\"/content/drive/MyDrive/50.007kaggle/train_tfidf_features.csv\")\n",
        "df_test_features = pd.read_csv(\"/content/drive/MyDrive/50.007kaggle/test_tfidf_features.csv\")\n",
        "samplesubmit = pd.read_csv(\"/content/drive/MyDrive/50.007kaggle/sample_submission.csv\")"
      ]
    },
    {
      "cell_type": "code",
      "execution_count": 5,
      "metadata": {
        "colab": {
          "base_uri": "https://localhost:8080/"
        },
        "id": "5-yCmXKwobCZ",
        "outputId": "529131ce-ce52-4f88-c554-a21eb37d1804"
      },
      "outputs": [
        {
          "output_type": "stream",
          "name": "stdout",
          "text": [
            "(4296, 2)\n"
          ]
        }
      ],
      "source": [
        "print(samplesubmit.shape)"
      ]
    },
    {
      "cell_type": "code",
      "source": [
        ""
      ],
      "metadata": {
        "id": "ZIQNNG01d7Zf"
      },
      "execution_count": null,
      "outputs": []
    },
    {
      "cell_type": "code",
      "execution_count": 6,
      "metadata": {
        "id": "W15Y4GpkLiKI"
      },
      "outputs": [],
      "source": [
        "labels = df_dataset_features.iloc[:,[1]]\n",
        "features = df_dataset_features.iloc[:,2:]\n",
        "#y_test = df_test.iloc[:,[1]]\n",
        "#X_test = df_test_features.iloc[:,1:]\n",
        "\n",
        "#分训练集测试集\n",
        "X_train, X_validation, y_train, y_validation = train_test_split(features, labels, test_size=0.05, random_state=1)\n",
        "lgb_train = lgb.Dataset(X_train, y_train)\n",
        "lgb_eval = lgb.Dataset(X_validation, y_validation, reference=lgb_train)"
      ]
    },
    {
      "cell_type": "code",
      "execution_count": 7,
      "metadata": {
        "colab": {
          "base_uri": "https://localhost:8080/"
        },
        "id": "gR90Iko9OCYK",
        "outputId": "8b4f25cc-7092-48b3-b062-df10415fa991"
      },
      "outputs": [
        {
          "output_type": "stream",
          "name": "stdout",
          "text": [
            "       label\n",
            "10817      0\n",
            "6126       1\n",
            "15049      1\n",
            "9695       0\n",
            "9508       0\n",
            "...      ...\n",
            "14580      0\n",
            "3085       1\n",
            "13330      1\n",
            "15540      1\n",
            "3933       1\n",
            "\n",
            "[860 rows x 1 columns]\n",
            "       label\n",
            "6821       1\n",
            "9576       0\n",
            "4952       1\n",
            "13085      1\n",
            "14621      0\n",
            "...      ...\n",
            "7813       0\n",
            "10955      0\n",
            "5192       0\n",
            "12172      0\n",
            "235        1\n",
            "\n",
            "[16324 rows x 1 columns]\n",
            "         0    1    2    3    4    5    6    7    8    9  ...  4990  4991  \\\n",
            "6821   0.0  0.0  0.0  0.0  0.0  0.0  0.0  0.0  0.0  0.0  ...   0.0   0.0   \n",
            "9576   0.0  0.0  0.0  0.0  0.0  0.0  0.0  0.0  0.0  0.0  ...   0.0   0.0   \n",
            "4952   0.0  0.0  0.0  0.0  0.0  0.0  0.0  0.0  0.0  0.0  ...   0.0   0.0   \n",
            "13085  0.0  0.0  0.0  0.0  0.0  0.0  0.0  0.0  0.0  0.0  ...   0.0   0.0   \n",
            "14621  0.0  0.0  0.0  0.0  0.0  0.0  0.0  0.0  0.0  0.0  ...   0.0   0.0   \n",
            "...    ...  ...  ...  ...  ...  ...  ...  ...  ...  ...  ...   ...   ...   \n",
            "7813   0.0  0.0  0.0  0.0  0.0  0.0  0.0  0.0  0.0  0.0  ...   0.0   0.0   \n",
            "10955  0.0  0.0  0.0  0.0  0.0  0.0  0.0  0.0  0.0  0.0  ...   0.0   0.0   \n",
            "5192   0.0  0.0  0.0  0.0  0.0  0.0  0.0  0.0  0.0  0.0  ...   0.0   0.0   \n",
            "12172  0.0  0.0  0.0  0.0  0.0  0.0  0.0  0.0  0.0  0.0  ...   0.0   0.0   \n",
            "235    0.0  0.0  0.0  0.0  0.0  0.0  0.0  0.0  0.0  0.0  ...   0.0   0.0   \n",
            "\n",
            "       4992  4993  4994  4995  4996  4997  4998  4999  \n",
            "6821    0.0   0.0   0.0   0.0   0.0   0.0   0.0   0.0  \n",
            "9576    0.0   0.0   0.0   0.0   0.0   0.0   0.0   0.0  \n",
            "4952    0.0   0.0   0.0   0.0   0.0   0.0   0.0   0.0  \n",
            "13085   0.0   0.0   0.0   0.0   0.0   0.0   0.0   0.0  \n",
            "14621   0.0   0.0   0.0   0.0   0.0   0.0   0.0   0.0  \n",
            "...     ...   ...   ...   ...   ...   ...   ...   ...  \n",
            "7813    0.0   0.0   0.0   0.0   0.0   0.0   0.0   0.0  \n",
            "10955   0.0   0.0   0.0   0.0   0.0   0.0   0.0   0.0  \n",
            "5192    0.0   0.0   0.0   0.0   0.0   0.0   0.0   0.0  \n",
            "12172   0.0   0.0   0.0   0.0   0.0   0.0   0.0   0.0  \n",
            "235     0.0   0.0   0.0   0.0   0.0   0.0   0.0   0.0  \n",
            "\n",
            "[16324 rows x 5000 columns]\n",
            "         0    1    2    3    4    5    6    7    8    9  ...  4990  4991  \\\n",
            "10817  0.0  0.0  0.0  0.0  0.0  0.0  0.0  0.0  0.0  0.0  ...   0.0   0.0   \n",
            "6126   0.0  0.0  0.0  0.0  0.0  0.0  0.0  0.0  0.0  0.0  ...   0.0   0.0   \n",
            "15049  0.0  0.0  0.0  0.0  0.0  0.0  0.0  0.0  0.0  0.0  ...   0.0   0.0   \n",
            "9695   0.0  0.0  0.0  0.0  0.0  0.0  0.0  0.0  0.0  0.0  ...   0.0   0.0   \n",
            "9508   0.0  0.0  0.0  0.0  0.0  0.0  0.0  0.0  0.0  0.0  ...   0.0   0.0   \n",
            "...    ...  ...  ...  ...  ...  ...  ...  ...  ...  ...  ...   ...   ...   \n",
            "14580  0.0  0.0  0.0  0.0  0.0  0.0  0.0  0.0  0.0  0.0  ...   0.0   0.0   \n",
            "3085   0.0  0.0  0.0  0.0  0.0  0.0  0.0  0.0  0.0  0.0  ...   0.0   0.0   \n",
            "13330  0.0  0.0  0.0  0.0  0.0  0.0  0.0  0.0  0.0  0.0  ...   0.0   0.0   \n",
            "15540  0.0  0.0  0.0  0.0  0.0  0.0  0.0  0.0  0.0  0.0  ...   0.0   0.0   \n",
            "3933   0.0  0.0  0.0  0.0  0.0  0.0  0.0  0.0  0.0  0.0  ...   0.0   0.0   \n",
            "\n",
            "       4992  4993  4994  4995  4996  4997  4998  4999  \n",
            "10817   0.0   0.0   0.0   0.0   0.0   0.0   0.0   0.0  \n",
            "6126    0.0   0.0   0.0   0.0   0.0   0.0   0.0   0.0  \n",
            "15049   0.0   0.0   0.0   0.0   0.0   0.0   0.0   0.0  \n",
            "9695    0.0   0.0   0.0   0.0   0.0   0.0   0.0   0.0  \n",
            "9508    0.0   0.0   0.0   0.0   0.0   0.0   0.0   0.0  \n",
            "...     ...   ...   ...   ...   ...   ...   ...   ...  \n",
            "14580   0.0   0.0   0.0   0.0   0.0   0.0   0.0   0.0  \n",
            "3085    0.0   0.0   0.0   0.0   0.0   0.0   0.0   0.0  \n",
            "13330   0.0   0.0   0.0   0.0   0.0   0.0   0.0   0.0  \n",
            "15540   0.0   0.0   0.0   0.0   0.0   0.0   0.0   0.0  \n",
            "3933    0.0   0.0   0.0   0.0   0.0   0.0   0.0   0.0  \n",
            "\n",
            "[860 rows x 5000 columns]\n"
          ]
        }
      ],
      "source": [
        "print(y_validation)\n",
        "print(y_train)\n",
        "print(X_train)\n",
        "print(X_validation)"
      ]
    },
    {
      "cell_type": "code",
      "source": [
        "def my_custom_loss_func(y_true, y_pred):\n",
        "    pos_f1 = metrics.f1_score(y_validation, y_pred_validation, pos_label=1 )\n",
        "    neg_f1 = metrics.f1_score(y_validation, y_pred_validation, pos_label=0 )\n",
        "    macro_f1 = (pos_f1 + neg_f1)/2  \n",
        "    return macro_f1\n",
        "\n",
        "macro_f1 = make_scorer(my_custom_loss_func, greater_is_better=False)"
      ],
      "metadata": {
        "id": "n_2kn-AHd-m0"
      },
      "execution_count": 8,
      "outputs": []
    },
    {
      "cell_type": "code",
      "execution_count": 11,
      "metadata": {
        "id": "9pY649ypQHUZ"
      },
      "outputs": [],
      "source": [
        "params = {\n",
        "    'boosting_type': 'gbdt',  # 设置提升类型\n",
        "    'objective': 'binary',  # 目标函数\n",
        "    'max_depth': -1,\n",
        "    'metric': 'macro_f1',  # 评估函数\n",
        "    'num_leaves': 300,  # 叶子节点数\n",
        "    'learning_rate': 0.01,  # 学习速率\n",
        "    'feature_fraction': 0.9,  # 建树的特征选择比例\n",
        "    'bagging_fraction': 0.8,  # 建树的样本采样比例\n",
        "    'bagging_freq': 5,  # k 意味着每 k 次迭代执行bagging\n",
        "    'lambda_l2': 0.01,\n",
        "    'nthread' : -1,\n",
        "    'verbose': 1  \n",
        "}"
      ]
    },
    {
      "cell_type": "code",
      "execution_count": 12,
      "metadata": {
        "colab": {
          "base_uri": "https://localhost:8080/",
          "height": 316
        },
        "id": "HfMPGWxgQKUy",
        "outputId": "bb2723b4-d4fe-47c7-8ecf-db0cd22adfdd"
      },
      "outputs": [
        {
          "output_type": "error",
          "ename": "KeyboardInterrupt",
          "evalue": "ignored",
          "traceback": [
            "\u001b[0;31m---------------------------------------------------------------------------\u001b[0m",
            "\u001b[0;31mKeyboardInterrupt\u001b[0m                         Traceback (most recent call last)",
            "\u001b[0;32m<ipython-input-12-3a9dcbb0c794>\u001b[0m in \u001b[0;36m<module>\u001b[0;34m()\u001b[0m\n\u001b[0;32m----> 1\u001b[0;31m \u001b[0mgbm\u001b[0m \u001b[0;34m=\u001b[0m \u001b[0mlgb\u001b[0m\u001b[0;34m.\u001b[0m\u001b[0mtrain\u001b[0m\u001b[0;34m(\u001b[0m\u001b[0mparams\u001b[0m\u001b[0;34m,\u001b[0m \u001b[0mlgb_train\u001b[0m\u001b[0;34m,\u001b[0m \u001b[0mvalid_sets\u001b[0m\u001b[0;34m=\u001b[0m\u001b[0mlgb_eval\u001b[0m\u001b[0;34m)\u001b[0m\u001b[0;34m\u001b[0m\u001b[0;34m\u001b[0m\u001b[0m\n\u001b[0m",
            "\u001b[0;32m/usr/local/lib/python3.7/dist-packages/lightgbm/engine.py\u001b[0m in \u001b[0;36mtrain\u001b[0;34m(params, train_set, num_boost_round, valid_sets, valid_names, fobj, feval, init_model, feature_name, categorical_feature, early_stopping_rounds, evals_result, verbose_eval, learning_rates, keep_training_booster, callbacks)\u001b[0m\n\u001b[1;32m    216\u001b[0m                                     evaluation_result_list=None))\n\u001b[1;32m    217\u001b[0m \u001b[0;34m\u001b[0m\u001b[0m\n\u001b[0;32m--> 218\u001b[0;31m         \u001b[0mbooster\u001b[0m\u001b[0;34m.\u001b[0m\u001b[0mupdate\u001b[0m\u001b[0;34m(\u001b[0m\u001b[0mfobj\u001b[0m\u001b[0;34m=\u001b[0m\u001b[0mfobj\u001b[0m\u001b[0;34m)\u001b[0m\u001b[0;34m\u001b[0m\u001b[0;34m\u001b[0m\u001b[0m\n\u001b[0m\u001b[1;32m    219\u001b[0m \u001b[0;34m\u001b[0m\u001b[0m\n\u001b[1;32m    220\u001b[0m         \u001b[0mevaluation_result_list\u001b[0m \u001b[0;34m=\u001b[0m \u001b[0;34m[\u001b[0m\u001b[0;34m]\u001b[0m\u001b[0;34m\u001b[0m\u001b[0;34m\u001b[0m\u001b[0m\n",
            "\u001b[0;32m/usr/local/lib/python3.7/dist-packages/lightgbm/basic.py\u001b[0m in \u001b[0;36mupdate\u001b[0;34m(self, train_set, fobj)\u001b[0m\n\u001b[1;32m   1800\u001b[0m             _safe_call(_LIB.LGBM_BoosterUpdateOneIter(\n\u001b[1;32m   1801\u001b[0m                 \u001b[0mself\u001b[0m\u001b[0;34m.\u001b[0m\u001b[0mhandle\u001b[0m\u001b[0;34m,\u001b[0m\u001b[0;34m\u001b[0m\u001b[0;34m\u001b[0m\u001b[0m\n\u001b[0;32m-> 1802\u001b[0;31m                 ctypes.byref(is_finished)))\n\u001b[0m\u001b[1;32m   1803\u001b[0m             \u001b[0mself\u001b[0m\u001b[0;34m.\u001b[0m\u001b[0m__is_predicted_cur_iter\u001b[0m \u001b[0;34m=\u001b[0m \u001b[0;34m[\u001b[0m\u001b[0;32mFalse\u001b[0m \u001b[0;32mfor\u001b[0m \u001b[0m_\u001b[0m \u001b[0;32min\u001b[0m \u001b[0mrange_\u001b[0m\u001b[0;34m(\u001b[0m\u001b[0mself\u001b[0m\u001b[0;34m.\u001b[0m\u001b[0m__num_dataset\u001b[0m\u001b[0;34m)\u001b[0m\u001b[0;34m]\u001b[0m\u001b[0;34m\u001b[0m\u001b[0;34m\u001b[0m\u001b[0m\n\u001b[1;32m   1804\u001b[0m             \u001b[0;32mreturn\u001b[0m \u001b[0mis_finished\u001b[0m\u001b[0;34m.\u001b[0m\u001b[0mvalue\u001b[0m \u001b[0;34m==\u001b[0m \u001b[0;36m1\u001b[0m\u001b[0;34m\u001b[0m\u001b[0;34m\u001b[0m\u001b[0m\n",
            "\u001b[0;31mKeyboardInterrupt\u001b[0m: "
          ]
        }
      ],
      "source": [
        "gbm = lgb.train(params, lgb_train, valid_sets=lgb_eval)"
      ]
    },
    {
      "cell_type": "code",
      "execution_count": null,
      "metadata": {
        "colab": {
          "base_uri": "https://localhost:8080/"
        },
        "id": "uuED2PikRCEr",
        "outputId": "83c8aea9-5166-4f25-84bc-f6d40fcc1f81"
      },
      "outputs": [
        {
          "name": "stdout",
          "output_type": "stream",
          "text": [
            "0.6399999999999999\n",
            "0.729495669893021\n",
            "validation_macro_f1 : 0.6847\n",
            "validation_acc: 0.6911\n"
          ]
        }
      ],
      "source": [
        "y_validation, y_pred_validation = y_validation, gbm.predict(X_validation)\n",
        "pos_f1 = metrics.f1_score(y_validation, y_pred_validation, pos_label=1 )\n",
        "neg_f1 = metrics.f1_score(y_validation, y_pred_validation, pos_label=0 )\n",
        "macro_f1 = (pos_f1 + neg_f1)/2\n",
        "print(pos_f1)\n",
        "print(neg_f1)\n",
        "print(\"validation_macro_f1 : %.4g\" % macro_f1)  \n",
        "print(\"validation_acc: %.4g\"% metrics.accuracy_score(y_validation, y_pred_validation))"
      ]
    },
    {
      "cell_type": "code",
      "execution_count": null,
      "metadata": {
        "id": "FkbBhqmW73Pv"
      },
      "outputs": [],
      "source": [
        "X_test = df_test_features.iloc[:,1:]"
      ]
    },
    {
      "cell_type": "code",
      "execution_count": null,
      "metadata": {
        "colab": {
          "base_uri": "https://localhost:8080/"
        },
        "id": "vOGSfwtvhv-R",
        "outputId": "db89235f-c9fd-4150-9ef3-25b0ffe6ba8c"
      },
      "outputs": [
        {
          "name": "stdout",
          "output_type": "stream",
          "text": [
            "        0    1    2    3    4    5    6    7    8    9  ...  4990  4991  4992  \\\n",
            "0     0.0  0.0  0.0  0.0  0.0  0.0  0.0  0.0  0.0  0.0  ...   0.0   0.0   0.0   \n",
            "1     0.0  0.0  0.0  0.0  0.0  0.0  0.0  0.0  0.0  0.0  ...   0.0   0.0   0.0   \n",
            "2     0.0  0.0  0.0  0.0  0.0  0.0  0.0  0.0  0.0  0.0  ...   0.0   0.0   0.0   \n",
            "3     0.0  0.0  0.0  0.0  0.0  0.0  0.0  0.0  0.0  0.0  ...   0.0   0.0   0.0   \n",
            "4     0.0  0.0  0.0  0.0  0.0  0.0  0.0  0.0  0.0  0.0  ...   0.0   0.0   0.0   \n",
            "...   ...  ...  ...  ...  ...  ...  ...  ...  ...  ...  ...   ...   ...   ...   \n",
            "4291  0.0  0.0  0.0  0.0  0.0  0.0  0.0  0.0  0.0  0.0  ...   0.0   0.0   0.0   \n",
            "4292  0.0  0.0  0.0  0.0  0.0  0.0  0.0  0.0  0.0  0.0  ...   0.0   0.0   0.0   \n",
            "4293  0.0  0.0  0.0  0.0  0.0  0.0  0.0  0.0  0.0  0.0  ...   0.0   0.0   0.0   \n",
            "4294  0.0  0.0  0.0  0.0  0.0  0.0  0.0  0.0  0.0  0.0  ...   0.0   0.0   0.0   \n",
            "4295  0.0  0.0  0.0  0.0  0.0  0.0  0.0  0.0  0.0  0.0  ...   0.0   0.0   0.0   \n",
            "\n",
            "      4993  4994  4995  4996  4997  4998  4999  \n",
            "0      0.0   0.0   0.0   0.0   0.0   0.0   0.0  \n",
            "1      0.0   0.0   0.0   0.0   0.0   0.0   0.0  \n",
            "2      0.0   0.0   0.0   0.0   0.0   0.0   0.0  \n",
            "3      0.0   0.0   0.0   0.0   0.0   0.0   0.0  \n",
            "4      0.0   0.0   0.0   0.0   0.0   0.0   0.0  \n",
            "...    ...   ...   ...   ...   ...   ...   ...  \n",
            "4291   0.0   0.0   0.0   0.0   0.0   0.0   0.0  \n",
            "4292   0.0   0.0   0.0   0.0   0.0   0.0   0.0  \n",
            "4293   0.0   0.0   0.0   0.0   0.0   0.0   0.0  \n",
            "4294   0.0   0.0   0.0   0.0   0.0   0.0   0.0  \n",
            "4295   0.0   0.0   0.0   0.0   0.0   0.0   0.0  \n",
            "\n",
            "[4296 rows x 5000 columns]\n"
          ]
        }
      ],
      "source": [
        "print(X_test)"
      ]
    },
    {
      "cell_type": "code",
      "execution_count": null,
      "metadata": {
        "id": "LMO5yVxihheq"
      },
      "outputs": [],
      "source": [
        "y_test = gbm.predict(X_test)"
      ]
    },
    {
      "cell_type": "code",
      "execution_count": null,
      "metadata": {
        "colab": {
          "base_uri": "https://localhost:8080/"
        },
        "id": "O9PCguXuh9Hu",
        "outputId": "ae02774a-28bd-44ba-aa12-228edf1bf25d"
      },
      "outputs": [
        {
          "name": "stdout",
          "output_type": "stream",
          "text": [
            "[1 1 1 ... 1 0 0]\n"
          ]
        }
      ],
      "source": [
        "print(y_test)"
      ]
    },
    {
      "cell_type": "code",
      "execution_count": null,
      "metadata": {
        "colab": {
          "base_uri": "https://localhost:8080/"
        },
        "id": "KxpjzG47ixU2",
        "outputId": "8afb00b1-4f6f-48c5-f7f6-bc3aab238ad8"
      },
      "outputs": [
        {
          "name": "stdout",
          "output_type": "stream",
          "text": [
            "       label\n",
            "id          \n",
            "17185      1\n",
            "17186      1\n",
            "17187      1\n",
            "17188      0\n",
            "17189      0\n",
            "...      ...\n",
            "21476      1\n",
            "21477      1\n",
            "21478      1\n",
            "21479      0\n",
            "21480      0\n",
            "\n",
            "[4296 rows x 1 columns]\n"
          ]
        }
      ],
      "source": [
        "x = df_test\n",
        "x = x.set_index(\"id\")\n",
        "x = x.drop(\"post\", axis = 1)\n",
        "x[\"label\"] = y_test\n",
        "print(x)\n",
        "x.to_csv(\"/content/drive/MyDrive/50.007kaggle/submit.csv\")"
      ]
    }
  ],
  "metadata": {
    "accelerator": "GPU",
    "colab": {
      "collapsed_sections": [],
      "name": "lightgbm",
      "provenance": [],
      "mount_file_id": "1UhkVzKCI8AEiC-ywoWL5JAIR0Amb9s7e",
      "authorship_tag": "ABX9TyNYH2OlTExAxg34CotGJTZp",
      "include_colab_link": true
    },
    "gpuClass": "standard",
    "kernelspec": {
      "display_name": "Python 3",
      "name": "python3"
    },
    "language_info": {
      "name": "python"
    }
  },
  "nbformat": 4,
  "nbformat_minor": 0
}