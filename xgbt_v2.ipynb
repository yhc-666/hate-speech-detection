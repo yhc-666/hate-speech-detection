{
  "nbformat": 4,
  "nbformat_minor": 0,
  "metadata": {
    "colab": {
      "name": "task3.ipynb",
      "provenance": [],
      "collapsed_sections": [],
      "mount_file_id": "1UhkVzKCI8AEiC-ywoWL5JAIR0Amb9s7e",
      "authorship_tag": "ABX9TyNT25LoatVIucoTAnoDIhc1",
      "include_colab_link": true
    },
    "kernelspec": {
      "name": "python3",
      "display_name": "Python 3"
    },
    "language_info": {
      "name": "python"
    },
    "accelerator": "TPU",
    "gpuClass": "standard"
  },
  "cells": [
    {
      "cell_type": "markdown",
      "metadata": {
        "id": "view-in-github",
        "colab_type": "text"
      },
      "source": [
        "<a href=\"https://colab.research.google.com/github/yhc-666/hate-speech-detection/blob/master/xgbt_v2.ipynb\" target=\"_parent\"><img src=\"https://colab.research.google.com/assets/colab-badge.svg\" alt=\"Open In Colab\"/></a>"
      ]
    },
    {
      "cell_type": "code",
      "source": [
        "from google.colab import drive\n",
        "drive.mount('/content/drive')"
      ],
      "metadata": {
        "id": "W_Hj42M9GVa0",
        "colab": {
          "base_uri": "https://localhost:8080/"
        },
        "outputId": "be6c1cc2-c171-4668-b0c3-b4fb89980eaf"
      },
      "execution_count": 2,
      "outputs": [
        {
          "output_type": "stream",
          "name": "stdout",
          "text": [
            "Drive already mounted at /content/drive; to attempt to forcibly remount, call drive.mount(\"/content/drive\", force_remount=True).\n"
          ]
        }
      ]
    },
    {
      "cell_type": "code",
      "source": [
        "from sklearn.model_selection import train_test_split\n",
        "import pandas as pd\n",
        "import matplotlib.pyplot as plt\n",
        "from sklearn import datasets\n",
        "from sklearn.metrics import accuracy_score\n",
        "from xgboost import XGBClassifier\n",
        "from xgboost import plot_importance\n",
        "from sklearn import metrics\n"
      ],
      "metadata": {
        "id": "gdIbGzE-Pa9e"
      },
      "execution_count": 3,
      "outputs": []
    },
    {
      "cell_type": "code",
      "source": [
        "gpu_info = !nvidia-smi\n",
        "gpu_info = '\\n'.join(gpu_info)\n",
        "if gpu_info.find('failed') >= 0:\n",
        "  print('Not connected to a GPU')\n",
        "else:\n",
        "  print(gpu_info)"
      ],
      "metadata": {
        "colab": {
          "base_uri": "https://localhost:8080/"
        },
        "id": "k5ygKvivXE9-",
        "outputId": "cdc7b7f4-95db-40b5-c41e-be77cd92ef50"
      },
      "execution_count": 4,
      "outputs": [
        {
          "output_type": "stream",
          "name": "stdout",
          "text": [
            "Not connected to a GPU\n"
          ]
        }
      ]
    },
    {
      "cell_type": "code",
      "source": [
        "df_dataset = pd.read_csv('/content/drive/MyDrive/50.007kaggle/train.csv')\n",
        "df_test = pd.read_csv('/content/drive/MyDrive/50.007kaggle/test.csv')\n",
        "df_dataset_features = pd.read_csv(\"/content/drive/MyDrive/50.007kaggle/train_tfidf_features.csv\")\n",
        "df_test_features = pd.read_csv(\"/content/drive/MyDrive/50.007kaggle/test_tfidf_features.csv\")\n",
        "samplesubmit = pd.read_csv(\"/content/drive/MyDrive/50.007kaggle/sample_submission.csv\")"
      ],
      "metadata": {
        "id": "YjbwQqEjHyBx"
      },
      "execution_count": 5,
      "outputs": []
    },
    {
      "cell_type": "code",
      "source": [
        "print(samplesubmit.shape)"
      ],
      "metadata": {
        "colab": {
          "base_uri": "https://localhost:8080/"
        },
        "id": "5-yCmXKwobCZ",
        "outputId": "9d6a79fc-59f5-496b-f5e1-9ef4d630d0b0"
      },
      "execution_count": 6,
      "outputs": [
        {
          "output_type": "stream",
          "name": "stdout",
          "text": [
            "(4296, 2)\n"
          ]
        }
      ]
    },
    {
      "cell_type": "code",
      "source": [
        "labels = df_dataset_features.iloc[:,[1]]\n",
        "features = df_dataset_features.iloc[:,2:]\n",
        "#y_test = df_test.iloc[:,[1]]\n",
        "#X_test = df_test_features.iloc[:,1:]\n",
        "\n",
        "#分训练集测试集\n",
        "X_train, X_validation, y_train, y_validation = train_test_split(features, labels, test_size=0.05, random_state=0)"
      ],
      "metadata": {
        "id": "W15Y4GpkLiKI"
      },
      "execution_count": 7,
      "outputs": []
    },
    {
      "cell_type": "code",
      "source": [
        "print(y_validation)\n",
        "print(y_train)\n",
        "print(X_train)\n",
        "print(X_validation)"
      ],
      "metadata": {
        "colab": {
          "base_uri": "https://localhost:8080/"
        },
        "id": "gR90Iko9OCYK",
        "outputId": "4f3a5cea-06e1-4d00-e0af-d2cb670c569d"
      },
      "execution_count": 8,
      "outputs": [
        {
          "output_type": "stream",
          "name": "stdout",
          "text": [
            "       label\n",
            "5232       0\n",
            "8264       0\n",
            "14494      0\n",
            "127        1\n",
            "1603       1\n",
            "...      ...\n",
            "6643       0\n",
            "6353       0\n",
            "1933       0\n",
            "11199      1\n",
            "122        0\n",
            "\n",
            "[1719 rows x 1 columns]\n",
            "       label\n",
            "8108       0\n",
            "14580      0\n",
            "11591      1\n",
            "5831       0\n",
            "4030       0\n",
            "...      ...\n",
            "9225       1\n",
            "13123      0\n",
            "9845       1\n",
            "10799      0\n",
            "2732       0\n",
            "\n",
            "[15465 rows x 1 columns]\n",
            "         0    1    2    3    4    5    6    7    8    9  ...  4990  4991  \\\n",
            "8108   0.0  0.0  0.0  0.0  0.0  0.0  0.0  0.0  0.0  0.0  ...   0.0   0.0   \n",
            "14580  0.0  0.0  0.0  0.0  0.0  0.0  0.0  0.0  0.0  0.0  ...   0.0   0.0   \n",
            "11591  0.0  0.0  0.0  0.0  0.0  0.0  0.0  0.0  0.0  0.0  ...   0.0   0.0   \n",
            "5831   0.0  0.0  0.0  0.0  0.0  0.0  0.0  0.0  0.0  0.0  ...   0.0   0.0   \n",
            "4030   0.0  0.0  0.0  0.0  0.0  0.0  0.0  0.0  0.0  0.0  ...   0.0   0.0   \n",
            "...    ...  ...  ...  ...  ...  ...  ...  ...  ...  ...  ...   ...   ...   \n",
            "9225   0.0  0.0  0.0  0.0  0.0  0.0  0.0  0.0  0.0  0.0  ...   0.0   0.0   \n",
            "13123  0.0  0.0  0.0  0.0  0.0  0.0  0.0  0.0  0.0  0.0  ...   0.0   0.0   \n",
            "9845   0.0  0.0  0.0  0.0  0.0  0.0  0.0  0.0  0.0  0.0  ...   0.0   0.0   \n",
            "10799  0.0  0.0  0.0  0.0  0.0  0.0  0.0  0.0  0.0  0.0  ...   0.0   0.0   \n",
            "2732   0.0  0.0  0.0  0.0  0.0  0.0  0.0  0.0  0.0  0.0  ...   0.0   0.0   \n",
            "\n",
            "       4992  4993  4994  4995  4996  4997  4998  4999  \n",
            "8108    0.0   0.0   0.0   0.0   0.0   0.0   0.0   0.0  \n",
            "14580   0.0   0.0   0.0   0.0   0.0   0.0   0.0   0.0  \n",
            "11591   0.0   0.0   0.0   0.0   0.0   0.0   0.0   0.0  \n",
            "5831    0.0   0.0   0.0   0.0   0.0   0.0   0.0   0.0  \n",
            "4030    0.0   0.0   0.0   0.0   0.0   0.0   0.0   0.0  \n",
            "...     ...   ...   ...   ...   ...   ...   ...   ...  \n",
            "9225    0.0   0.0   0.0   0.0   0.0   0.0   0.0   0.0  \n",
            "13123   0.0   0.0   0.0   0.0   0.0   0.0   0.0   0.0  \n",
            "9845    0.0   0.0   0.0   0.0   0.0   0.0   0.0   0.0  \n",
            "10799   0.0   0.0   0.0   0.0   0.0   0.0   0.0   0.0  \n",
            "2732    0.0   0.0   0.0   0.0   0.0   0.0   0.0   0.0  \n",
            "\n",
            "[15465 rows x 5000 columns]\n",
            "         0    1    2    3    4    5    6    7    8    9  ...  4990  4991  \\\n",
            "5232   0.0  0.0  0.0  0.0  0.0  0.0  0.0  0.0  0.0  0.0  ...   0.0   0.0   \n",
            "8264   0.0  0.0  0.0  0.0  0.0  0.0  0.0  0.0  0.0  0.0  ...   0.0   0.0   \n",
            "14494  0.0  0.0  0.0  0.0  0.0  0.0  0.0  0.0  0.0  0.0  ...   0.0   0.0   \n",
            "127    0.0  0.0  0.0  0.0  0.0  0.0  0.0  0.0  0.0  0.0  ...   0.0   0.0   \n",
            "1603   0.0  0.0  0.0  0.0  0.0  0.0  0.0  0.0  0.0  0.0  ...   0.0   0.0   \n",
            "...    ...  ...  ...  ...  ...  ...  ...  ...  ...  ...  ...   ...   ...   \n",
            "6643   0.0  0.0  0.0  0.0  0.0  0.0  0.0  0.0  0.0  0.0  ...   0.0   0.0   \n",
            "6353   0.0  0.0  0.0  0.0  0.0  0.0  0.0  0.0  0.0  0.0  ...   0.0   0.0   \n",
            "1933   0.0  0.0  0.0  0.0  0.0  0.0  0.0  0.0  0.0  0.0  ...   0.0   0.0   \n",
            "11199  0.0  0.0  0.0  0.0  0.0  0.0  0.0  0.0  0.0  0.0  ...   0.0   0.0   \n",
            "122    0.0  0.0  0.0  0.0  0.0  0.0  0.0  0.0  0.0  0.0  ...   0.0   0.0   \n",
            "\n",
            "       4992  4993  4994  4995  4996  4997  4998  4999  \n",
            "5232    0.0   0.0   0.0   0.0   0.0   0.0   0.0   0.0  \n",
            "8264    0.0   0.0   0.0   0.0   0.0   0.0   0.0   0.0  \n",
            "14494   0.0   0.0   0.0   0.0   0.0   0.0   0.0   0.0  \n",
            "127     0.0   0.0   0.0   0.0   0.0   0.0   0.0   0.0  \n",
            "1603    0.0   0.0   0.0   0.0   0.0   0.0   0.0   0.0  \n",
            "...     ...   ...   ...   ...   ...   ...   ...   ...  \n",
            "6643    0.0   0.0   0.0   0.0   0.0   0.0   0.0   0.0  \n",
            "6353    0.0   0.0   0.0   0.0   0.0   0.0   0.0   0.0  \n",
            "1933    0.0   0.0   0.0   0.0   0.0   0.0   0.0   0.0  \n",
            "11199   0.0   0.0   0.0   0.0   0.0   0.0   0.0   0.0  \n",
            "122     0.0   0.0   0.0   0.0   0.0   0.0   0.0   0.0  \n",
            "\n",
            "[1719 rows x 5000 columns]\n"
          ]
        }
      ]
    },
    {
      "cell_type": "code",
      "source": [
        "model = XGBClassifier(learning_rate=0.01,\n",
        "                      n_estimators=350,          # 树的个数-10棵树建立xgboost\n",
        "                      max_depth=100,               # 树的深度\n",
        "                      min_child_weight = 1,      # 叶子节点最小权重\n",
        "                      gamma=0.,                  # 惩罚项中叶子结点个数前的参数\n",
        "                      reg_lambda = 1.2,\n",
        "                      subsample=0.6,             # 所有样本建立决策树\n",
        "                      colsample_btree=1,         # 所有特征建立决策树\n",
        "                      scale_pos_weight=2,        # 解决样本个数不平衡的问题\n",
        "                      random_state=1,           # 随机数\n",
        "                      slient = 0\n",
        "                      )"
      ],
      "metadata": {
        "id": "9pY649ypQHUZ"
      },
      "execution_count": 32,
      "outputs": []
    },
    {
      "cell_type": "code",
      "source": [
        "model.fit(X_train, y_train)"
      ],
      "metadata": {
        "colab": {
          "base_uri": "https://localhost:8080/"
        },
        "id": "HfMPGWxgQKUy",
        "outputId": "eaf31186-c753-44cf-9861-f1b0c873bb65"
      },
      "execution_count": null,
      "outputs": [
        {
          "output_type": "stream",
          "name": "stderr",
          "text": [
            "/usr/local/lib/python3.7/dist-packages/sklearn/preprocessing/_label.py:98: DataConversionWarning: A column-vector y was passed when a 1d array was expected. Please change the shape of y to (n_samples, ), for example using ravel().\n",
            "  y = column_or_1d(y, warn=True)\n",
            "/usr/local/lib/python3.7/dist-packages/sklearn/preprocessing/_label.py:133: DataConversionWarning: A column-vector y was passed when a 1d array was expected. Please change the shape of y to (n_samples, ), for example using ravel().\n",
            "  y = column_or_1d(y, warn=True)\n"
          ]
        }
      ]
    },
    {
      "cell_type": "code",
      "source": [
        "y_validation, y_pred_validation = y_validation, model.predict(X_validation)\n",
        "pos_f1 = metrics.f1_score(y_validation, y_pred_validation, pos_label=1 )\n",
        "neg_f1 = metrics.f1_score(y_validation, y_pred_validation, pos_label=0 )\n",
        "macro_f1 = (pos_f1 + neg_f1)/2\n",
        "print(pos_f1)\n",
        "print(neg_f1)\n",
        "print(\"validation_macro_f1 : %.4g\" % macro_f1)  \n",
        "print(\"validation_acc: %.4g\"% metrics.accuracy_score(y_validation, y_pred_validation))"
      ],
      "metadata": {
        "colab": {
          "base_uri": "https://localhost:8080/"
        },
        "id": "uuED2PikRCEr",
        "outputId": "83c8aea9-5166-4f25-84bc-f6d40fcc1f81"
      },
      "execution_count": 27,
      "outputs": [
        {
          "output_type": "stream",
          "name": "stdout",
          "text": [
            "0.6399999999999999\n",
            "0.729495669893021\n",
            "validation_macro_f1 : 0.6847\n",
            "validation_acc: 0.6911\n"
          ]
        }
      ]
    },
    {
      "cell_type": "code",
      "source": [
        "X_test = df_test_features.iloc[:,1:]"
      ],
      "metadata": {
        "id": "FkbBhqmW73Pv"
      },
      "execution_count": 28,
      "outputs": []
    },
    {
      "cell_type": "code",
      "source": [
        "print(X_test)"
      ],
      "metadata": {
        "colab": {
          "base_uri": "https://localhost:8080/"
        },
        "id": "vOGSfwtvhv-R",
        "outputId": "db89235f-c9fd-4150-9ef3-25b0ffe6ba8c"
      },
      "execution_count": 17,
      "outputs": [
        {
          "output_type": "stream",
          "name": "stdout",
          "text": [
            "        0    1    2    3    4    5    6    7    8    9  ...  4990  4991  4992  \\\n",
            "0     0.0  0.0  0.0  0.0  0.0  0.0  0.0  0.0  0.0  0.0  ...   0.0   0.0   0.0   \n",
            "1     0.0  0.0  0.0  0.0  0.0  0.0  0.0  0.0  0.0  0.0  ...   0.0   0.0   0.0   \n",
            "2     0.0  0.0  0.0  0.0  0.0  0.0  0.0  0.0  0.0  0.0  ...   0.0   0.0   0.0   \n",
            "3     0.0  0.0  0.0  0.0  0.0  0.0  0.0  0.0  0.0  0.0  ...   0.0   0.0   0.0   \n",
            "4     0.0  0.0  0.0  0.0  0.0  0.0  0.0  0.0  0.0  0.0  ...   0.0   0.0   0.0   \n",
            "...   ...  ...  ...  ...  ...  ...  ...  ...  ...  ...  ...   ...   ...   ...   \n",
            "4291  0.0  0.0  0.0  0.0  0.0  0.0  0.0  0.0  0.0  0.0  ...   0.0   0.0   0.0   \n",
            "4292  0.0  0.0  0.0  0.0  0.0  0.0  0.0  0.0  0.0  0.0  ...   0.0   0.0   0.0   \n",
            "4293  0.0  0.0  0.0  0.0  0.0  0.0  0.0  0.0  0.0  0.0  ...   0.0   0.0   0.0   \n",
            "4294  0.0  0.0  0.0  0.0  0.0  0.0  0.0  0.0  0.0  0.0  ...   0.0   0.0   0.0   \n",
            "4295  0.0  0.0  0.0  0.0  0.0  0.0  0.0  0.0  0.0  0.0  ...   0.0   0.0   0.0   \n",
            "\n",
            "      4993  4994  4995  4996  4997  4998  4999  \n",
            "0      0.0   0.0   0.0   0.0   0.0   0.0   0.0  \n",
            "1      0.0   0.0   0.0   0.0   0.0   0.0   0.0  \n",
            "2      0.0   0.0   0.0   0.0   0.0   0.0   0.0  \n",
            "3      0.0   0.0   0.0   0.0   0.0   0.0   0.0  \n",
            "4      0.0   0.0   0.0   0.0   0.0   0.0   0.0  \n",
            "...    ...   ...   ...   ...   ...   ...   ...  \n",
            "4291   0.0   0.0   0.0   0.0   0.0   0.0   0.0  \n",
            "4292   0.0   0.0   0.0   0.0   0.0   0.0   0.0  \n",
            "4293   0.0   0.0   0.0   0.0   0.0   0.0   0.0  \n",
            "4294   0.0   0.0   0.0   0.0   0.0   0.0   0.0  \n",
            "4295   0.0   0.0   0.0   0.0   0.0   0.0   0.0  \n",
            "\n",
            "[4296 rows x 5000 columns]\n"
          ]
        }
      ]
    },
    {
      "cell_type": "code",
      "source": [
        "y_test = model.predict(X_test)"
      ],
      "metadata": {
        "id": "LMO5yVxihheq"
      },
      "execution_count": 29,
      "outputs": []
    },
    {
      "cell_type": "code",
      "source": [
        "print(y_test)"
      ],
      "metadata": {
        "colab": {
          "base_uri": "https://localhost:8080/"
        },
        "id": "O9PCguXuh9Hu",
        "outputId": "ae02774a-28bd-44ba-aa12-228edf1bf25d"
      },
      "execution_count": 30,
      "outputs": [
        {
          "output_type": "stream",
          "name": "stdout",
          "text": [
            "[1 1 1 ... 1 0 0]\n"
          ]
        }
      ]
    },
    {
      "cell_type": "code",
      "source": [
        "x = df_test\n",
        "x = x.set_index(\"id\")\n",
        "x = x.drop(\"post\", axis = 1)\n",
        "x[\"label\"] = y_test\n",
        "print(x)\n",
        "x.to_csv(\"/content/drive/MyDrive/50.007kaggle/submit.csv\")"
      ],
      "metadata": {
        "colab": {
          "base_uri": "https://localhost:8080/"
        },
        "id": "KxpjzG47ixU2",
        "outputId": "8afb00b1-4f6f-48c5-f7f6-bc3aab238ad8"
      },
      "execution_count": 31,
      "outputs": [
        {
          "output_type": "stream",
          "name": "stdout",
          "text": [
            "       label\n",
            "id          \n",
            "17185      1\n",
            "17186      1\n",
            "17187      1\n",
            "17188      0\n",
            "17189      0\n",
            "...      ...\n",
            "21476      1\n",
            "21477      1\n",
            "21478      1\n",
            "21479      0\n",
            "21480      0\n",
            "\n",
            "[4296 rows x 1 columns]\n"
          ]
        }
      ]
    }
  ]
}