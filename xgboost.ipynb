{
  "nbformat": 4,
  "nbformat_minor": 0,
  "metadata": {
    "colab": {
      "name": "task3.ipynb",
      "provenance": [],
      "collapsed_sections": [],
      "mount_file_id": "1UhkVzKCI8AEiC-ywoWL5JAIR0Amb9s7e",
      "authorship_tag": "ABX9TyM4j5B3CJ9LK1pC2KgZF+5C",
      "include_colab_link": true
    },
    "kernelspec": {
      "name": "python3",
      "display_name": "Python 3"
    },
    "language_info": {
      "name": "python"
    },
    "accelerator": "TPU",
    "gpuClass": "standard"
  },
  "cells": [
    {
      "cell_type": "markdown",
      "metadata": {
        "id": "view-in-github",
        "colab_type": "text"
      },
      "source": [
        "<a href=\"https://colab.research.google.com/github/yhc-666/hate-speech-detection/blob/master/xgboost.ipynb\" target=\"_parent\"><img src=\"https://colab.research.google.com/assets/colab-badge.svg\" alt=\"Open In Colab\"/></a>"
      ]
    },
    {
      "cell_type": "code",
      "source": [
        "from google.colab import drive\n",
        "drive.mount('/content/drive')"
      ],
      "metadata": {
        "id": "W_Hj42M9GVa0",
        "colab": {
          "base_uri": "https://localhost:8080/"
        },
        "outputId": "43d92efc-de61-4aac-af38-8903dacb569f"
      },
      "execution_count": 1,
      "outputs": [
        {
          "output_type": "stream",
          "name": "stdout",
          "text": [
            "Drive already mounted at /content/drive; to attempt to forcibly remount, call drive.mount(\"/content/drive\", force_remount=True).\n"
          ]
        }
      ]
    },
    {
      "cell_type": "code",
      "source": [
        "from sklearn.model_selection import train_test_split\n",
        "import pandas as pd\n",
        "import matplotlib.pyplot as plt\n",
        "from sklearn import datasets\n",
        "from sklearn.metrics import accuracy_score\n",
        "from xgboost import XGBClassifier\n",
        "from xgboost import plot_importance\n",
        "from sklearn import metrics\n"
      ],
      "metadata": {
        "id": "gdIbGzE-Pa9e"
      },
      "execution_count": 2,
      "outputs": []
    },
    {
      "cell_type": "code",
      "source": [
        "gpu_info = !nvidia-smi\n",
        "gpu_info = '\\n'.join(gpu_info)\n",
        "if gpu_info.find('failed') >= 0:\n",
        "  print('Not connected to a GPU')\n",
        "else:\n",
        "  print(gpu_info)"
      ],
      "metadata": {
        "colab": {
          "base_uri": "https://localhost:8080/"
        },
        "id": "k5ygKvivXE9-",
        "outputId": "44f323c7-28a3-4cbc-eec4-3cf0fd4d6477"
      },
      "execution_count": 3,
      "outputs": [
        {
          "output_type": "stream",
          "name": "stdout",
          "text": [
            "Not connected to a GPU\n"
          ]
        }
      ]
    },
    {
      "cell_type": "code",
      "source": [
        "df_train = pd.read_csv('/content/drive/MyDrive/50.007kaggle/train.csv')\n",
        "df_test = pd.read_csv('/content/drive/MyDrive/50.007kaggle/test.csv')\n",
        "df_train_features = pd.read_csv(\"/content/drive/MyDrive/50.007kaggle/train_tfidf_features.csv\")\n",
        "df_test_features = pd.read_csv(\"/content/drive/MyDrive/50.007kaggle/test_tfidf_features.csv\")"
      ],
      "metadata": {
        "id": "YjbwQqEjHyBx"
      },
      "execution_count": 4,
      "outputs": []
    },
    {
      "cell_type": "code",
      "source": [
        "labels = df_train_features.iloc[:,[1]]\n",
        "features = df_train_features.iloc[:,2:]\n",
        "#y_test = df_test.iloc[:,[1]]\n",
        "#X_test = df_test_features.iloc[:,1:]\n",
        "\n",
        "#分训练集测试集\n",
        "X_train, X_test, y_train, y_test = train_test_split(features, labels, test_size=0.02, random_state=2)"
      ],
      "metadata": {
        "id": "W15Y4GpkLiKI"
      },
      "execution_count": 11,
      "outputs": []
    },
    {
      "cell_type": "code",
      "source": [
        "print(y_test)\n",
        "print(y_train)\n",
        "print(X_train)\n",
        "print(X_test)"
      ],
      "metadata": {
        "colab": {
          "base_uri": "https://localhost:8080/"
        },
        "id": "gR90Iko9OCYK",
        "outputId": "9568d9e7-cb53-41a0-f854-1a4ecd73cf1d"
      },
      "execution_count": 12,
      "outputs": [
        {
          "output_type": "stream",
          "name": "stdout",
          "text": [
            "       label\n",
            "7429       1\n",
            "13425      0\n",
            "14486      1\n",
            "13298      0\n",
            "8879       0\n",
            "...      ...\n",
            "7723       0\n",
            "7623       0\n",
            "3876       0\n",
            "3385       1\n",
            "4345       1\n",
            "\n",
            "[344 rows x 1 columns]\n",
            "       label\n",
            "12371      1\n",
            "7808       0\n",
            "4718       1\n",
            "10205      0\n",
            "12789      0\n",
            "...      ...\n",
            "14696      1\n",
            "1099       0\n",
            "11798      0\n",
            "6637       1\n",
            "2575       1\n",
            "\n",
            "[16840 rows x 1 columns]\n",
            "         0    1    2    3    4    5    6    7    8    9  ...  4990  4991  \\\n",
            "12371  0.0  0.0  0.0  0.0  0.0  0.0  0.0  0.0  0.0  0.0  ...   0.0   0.0   \n",
            "7808   0.0  0.0  0.0  0.0  0.0  0.0  0.0  0.0  0.0  0.0  ...   0.0   0.0   \n",
            "4718   0.0  0.0  0.0  0.0  0.0  0.0  0.0  0.0  0.0  0.0  ...   0.0   0.0   \n",
            "10205  0.0  0.0  0.0  0.0  0.0  0.0  0.0  0.0  0.0  0.0  ...   0.0   0.0   \n",
            "12789  0.0  0.0  0.0  0.0  0.0  0.0  0.0  0.0  0.0  0.0  ...   0.0   0.0   \n",
            "...    ...  ...  ...  ...  ...  ...  ...  ...  ...  ...  ...   ...   ...   \n",
            "14696  0.0  0.0  0.0  0.0  0.0  0.0  0.0  0.0  0.0  0.0  ...   0.0   0.0   \n",
            "1099   0.0  0.0  0.0  0.0  0.0  0.0  0.0  0.0  0.0  0.0  ...   0.0   0.0   \n",
            "11798  0.0  0.0  0.0  0.0  0.0  0.0  0.0  0.0  0.0  0.0  ...   0.0   0.0   \n",
            "6637   0.0  0.0  0.0  0.0  0.0  0.0  0.0  0.0  0.0  0.0  ...   0.0   0.0   \n",
            "2575   0.0  0.0  0.0  0.0  0.0  0.0  0.0  0.0  0.0  0.0  ...   0.0   0.0   \n",
            "\n",
            "       4992  4993  4994  4995  4996  4997  4998  4999  \n",
            "12371   0.0   0.0   0.0   0.0   0.0   0.0   0.0   0.0  \n",
            "7808    0.0   0.0   0.0   0.0   0.0   0.0   0.0   0.0  \n",
            "4718    0.0   0.0   0.0   0.0   0.0   0.0   0.0   0.0  \n",
            "10205   0.0   0.0   0.0   0.0   0.0   0.0   0.0   0.0  \n",
            "12789   0.0   0.0   0.0   0.0   0.0   0.0   0.0   0.0  \n",
            "...     ...   ...   ...   ...   ...   ...   ...   ...  \n",
            "14696   0.0   0.0   0.0   0.0   0.0   0.0   0.0   0.0  \n",
            "1099    0.0   0.0   0.0   0.0   0.0   0.0   0.0   0.0  \n",
            "11798   0.0   0.0   0.0   0.0   0.0   0.0   0.0   0.0  \n",
            "6637    0.0   0.0   0.0   0.0   0.0   0.0   0.0   0.0  \n",
            "2575    0.0   0.0   0.0   0.0   0.0   0.0   0.0   0.0  \n",
            "\n",
            "[16840 rows x 5000 columns]\n",
            "         0    1    2    3    4    5    6    7    8    9  ...  4990  4991  \\\n",
            "7429   0.0  0.0  0.0  0.0  0.0  0.0  0.0  0.0  0.0  0.0  ...   0.0   0.0   \n",
            "13425  0.0  0.0  0.0  0.0  0.0  0.0  0.0  0.0  0.0  0.0  ...   0.0   0.0   \n",
            "14486  0.0  0.0  0.0  0.0  0.0  0.0  0.0  0.0  0.0  0.0  ...   0.0   0.0   \n",
            "13298  0.0  0.0  0.0  0.0  0.0  0.0  0.0  0.0  0.0  0.0  ...   0.0   0.0   \n",
            "8879   0.0  0.0  0.0  0.0  0.0  0.0  0.0  0.0  0.0  0.0  ...   0.0   0.0   \n",
            "...    ...  ...  ...  ...  ...  ...  ...  ...  ...  ...  ...   ...   ...   \n",
            "7723   0.0  0.0  0.0  0.0  0.0  0.0  0.0  0.0  0.0  0.0  ...   0.0   0.0   \n",
            "7623   0.0  0.0  0.0  0.0  0.0  0.0  0.0  0.0  0.0  0.0  ...   0.0   0.0   \n",
            "3876   0.0  0.0  0.0  0.0  0.0  0.0  0.0  0.0  0.0  0.0  ...   0.0   0.0   \n",
            "3385   0.0  0.0  0.0  0.0  0.0  0.0  0.0  0.0  0.0  0.0  ...   0.0   0.0   \n",
            "4345   0.0  0.0  0.0  0.0  0.0  0.0  0.0  0.0  0.0  0.0  ...   0.0   0.0   \n",
            "\n",
            "       4992  4993  4994  4995  4996  4997  4998  4999  \n",
            "7429    0.0   0.0   0.0   0.0   0.0   0.0   0.0   0.0  \n",
            "13425   0.0   0.0   0.0   0.0   0.0   0.0   0.0   0.0  \n",
            "14486   0.0   0.0   0.0   0.0   0.0   0.0   0.0   0.0  \n",
            "13298   0.0   0.0   0.0   0.0   0.0   0.0   0.0   0.0  \n",
            "8879    0.0   0.0   0.0   0.0   0.0   0.0   0.0   0.0  \n",
            "...     ...   ...   ...   ...   ...   ...   ...   ...  \n",
            "7723    0.0   0.0   0.0   0.0   0.0   0.0   0.0   0.0  \n",
            "7623    0.0   0.0   0.0   0.0   0.0   0.0   0.0   0.0  \n",
            "3876    0.0   0.0   0.0   0.0   0.0   0.0   0.0   0.0  \n",
            "3385    0.0   0.0   0.0   0.0   0.0   0.0   0.0   0.0  \n",
            "4345    0.0   0.0   0.0   0.0   0.0   0.0   0.0   0.0  \n",
            "\n",
            "[344 rows x 5000 columns]\n"
          ]
        }
      ]
    },
    {
      "cell_type": "code",
      "source": [
        "model = XGBClassifier(learning_rate=0.01,\n",
        "                      n_estimators=350,          # 树的个数-10棵树建立xgboost\n",
        "                      max_depth=6,               # 树的深度\n",
        "                      min_child_weight = 1,      # 叶子节点最小权重\n",
        "                      gamma=0.,                  # 惩罚项中叶子结点个数前的参数\n",
        "                      reg_lambda = 1,\n",
        "                      subsample=0.6,             # 所有样本建立决策树\n",
        "                      colsample_btree=1,         # 所有特征建立决策树\n",
        "                      scale_pos_weight=1,        # 解决样本个数不平衡的问题\n",
        "                      random_state=1,           # 随机数\n",
        "                      slient = 0\n",
        "                      )"
      ],
      "metadata": {
        "id": "9pY649ypQHUZ"
      },
      "execution_count": 13,
      "outputs": []
    },
    {
      "cell_type": "code",
      "source": [
        "model.fit(X_train, y_train)"
      ],
      "metadata": {
        "colab": {
          "base_uri": "https://localhost:8080/"
        },
        "id": "HfMPGWxgQKUy",
        "outputId": "9f1f6dbf-0fd5-46fa-84dd-873a72e30046"
      },
      "execution_count": null,
      "outputs": [
        {
          "output_type": "stream",
          "name": "stderr",
          "text": [
            "/usr/local/lib/python3.7/dist-packages/sklearn/preprocessing/_label.py:98: DataConversionWarning: A column-vector y was passed when a 1d array was expected. Please change the shape of y to (n_samples, ), for example using ravel().\n",
            "  y = column_or_1d(y, warn=True)\n",
            "/usr/local/lib/python3.7/dist-packages/sklearn/preprocessing/_label.py:133: DataConversionWarning: A column-vector y was passed when a 1d array was expected. Please change the shape of y to (n_samples, ), for example using ravel().\n",
            "  y = column_or_1d(y, warn=True)\n"
          ]
        }
      ]
    },
    {
      "cell_type": "code",
      "source": [
        "y_test, y_pred = y_test, model.predict(X_test)\n",
        "print(\"Accuracy : %.4g\" % metrics.accuracy_score(y_test, y_pred)) "
      ],
      "metadata": {
        "colab": {
          "base_uri": "https://localhost:8080/"
        },
        "id": "uuED2PikRCEr",
        "outputId": "72b64277-168d-4a21-9753-e18106543c7b"
      },
      "execution_count": 10,
      "outputs": [
        {
          "output_type": "stream",
          "name": "stdout",
          "text": [
            "Accuracy : 0.6835\n"
          ]
        }
      ]
    },
    {
      "cell_type": "code",
      "source": [
        "X_test = df_test_features.iloc[:,1:]"
      ],
      "metadata": {
        "id": "FkbBhqmW73Pv"
      },
      "execution_count": null,
      "outputs": []
    }
  ]
}