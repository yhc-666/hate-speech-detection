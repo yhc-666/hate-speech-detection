{
  "cells": [
    {
      "cell_type": "markdown",
      "metadata": {
        "id": "view-in-github",
        "colab_type": "text"
      },
      "source": [
        "<a href=\"https://colab.research.google.com/github/yhc-666/hate-speech-detection/blob/master/%E2%80%9Clightgbm_v2.ipynb\" target=\"_parent\"><img src=\"https://colab.research.google.com/assets/colab-badge.svg\" alt=\"Open In Colab\"/></a>"
      ]
    },
    {
      "cell_type": "code",
      "execution_count": null,
      "metadata": {
        "colab": {
          "base_uri": "https://localhost:8080/"
        },
        "id": "W_Hj42M9GVa0",
        "outputId": "929f73ff-bd55-42a8-a24e-8a8ad465c2a6"
      },
      "outputs": [
        {
          "name": "stdout",
          "output_type": "stream",
          "text": [
            "Mounted at /content/drive\n"
          ]
        }
      ],
      "source": [
        "from google.colab import drive\n",
        "drive.mount('/content/drive')"
      ]
    },
    {
      "cell_type": "code",
      "execution_count": null,
      "metadata": {
        "id": "gdIbGzE-Pa9e"
      },
      "outputs": [],
      "source": [
        "from sklearn.model_selection import train_test_split\n",
        "import pandas as pd\n",
        "import matplotlib.pyplot as plt\n",
        "from sklearn import datasets\n",
        "from sklearn.metrics import accuracy_score\n",
        "from sklearn import metrics\n",
        "from sklearn.metrics import make_scorer\n",
        "import lightgbm as lgb\n",
        "from sklearn.model_selection import GridSearchCV"
      ]
    },
    {
      "cell_type": "code",
      "execution_count": null,
      "metadata": {
        "colab": {
          "base_uri": "https://localhost:8080/"
        },
        "id": "k5ygKvivXE9-",
        "outputId": "bac18796-dfc9-45af-c3bc-7898d1fd695c"
      },
      "outputs": [
        {
          "name": "stdout",
          "output_type": "stream",
          "text": [
            "Sun Jul 17 09:59:47 2022       \n",
            "+-----------------------------------------------------------------------------+\n",
            "| NVIDIA-SMI 460.32.03    Driver Version: 460.32.03    CUDA Version: 11.2     |\n",
            "|-------------------------------+----------------------+----------------------+\n",
            "| GPU  Name        Persistence-M| Bus-Id        Disp.A | Volatile Uncorr. ECC |\n",
            "| Fan  Temp  Perf  Pwr:Usage/Cap|         Memory-Usage | GPU-Util  Compute M. |\n",
            "|                               |                      |               MIG M. |\n",
            "|===============================+======================+======================|\n",
            "|   0  Tesla P100-PCIE...  Off  | 00000000:00:04.0 Off |                    0 |\n",
            "| N/A   38C    P0    26W / 250W |      0MiB / 16280MiB |      0%      Default |\n",
            "|                               |                      |                  N/A |\n",
            "+-------------------------------+----------------------+----------------------+\n",
            "                                                                               \n",
            "+-----------------------------------------------------------------------------+\n",
            "| Processes:                                                                  |\n",
            "|  GPU   GI   CI        PID   Type   Process name                  GPU Memory |\n",
            "|        ID   ID                                                   Usage      |\n",
            "|=============================================================================|\n",
            "|  No running processes found                                                 |\n",
            "+-----------------------------------------------------------------------------+\n"
          ]
        }
      ],
      "source": [
        "gpu_info = !nvidia-smi\n",
        "gpu_info = '\\n'.join(gpu_info)\n",
        "if gpu_info.find('failed') >= 0:\n",
        "  print('Not connected to a GPU')\n",
        "else:\n",
        "  print(gpu_info)"
      ]
    },
    {
      "cell_type": "code",
      "execution_count": null,
      "metadata": {
        "id": "YjbwQqEjHyBx"
      },
      "outputs": [],
      "source": [
        "df_dataset = pd.read_csv('/content/drive/MyDrive/50.007kaggle/train.csv')\n",
        "df_test = pd.read_csv('/content/drive/MyDrive/50.007kaggle/test.csv')\n",
        "df_dataset_features = pd.read_csv(\"/content/drive/MyDrive/50.007kaggle/train_tfidf_features.csv\")\n",
        "df_test_features = pd.read_csv(\"/content/drive/MyDrive/50.007kaggle/test_tfidf_features.csv\")\n",
        "samplesubmit = pd.read_csv(\"/content/drive/MyDrive/50.007kaggle/sample_submission.csv\")"
      ]
    },
    {
      "cell_type": "code",
      "execution_count": null,
      "metadata": {
        "colab": {
          "base_uri": "https://localhost:8080/"
        },
        "id": "5-yCmXKwobCZ",
        "outputId": "358a2b97-bd86-4f12-e7d2-4e20ec85654b"
      },
      "outputs": [
        {
          "name": "stdout",
          "output_type": "stream",
          "text": [
            "(4296, 2)\n"
          ]
        }
      ],
      "source": [
        "print(samplesubmit.shape)"
      ]
    },
    {
      "cell_type": "code",
      "execution_count": null,
      "metadata": {
        "id": "ZIQNNG01d7Zf"
      },
      "outputs": [],
      "source": [
        ""
      ]
    },
    {
      "cell_type": "code",
      "execution_count": 141,
      "metadata": {
        "id": "W15Y4GpkLiKI"
      },
      "outputs": [],
      "source": [
        "labels = df_dataset_features.iloc[:,[1]]\n",
        "features = df_dataset_features.iloc[:,2:]\n",
        "#y_test = df_test.iloc[:,[1]]\n",
        "#X_test = df_test_features.iloc[:,1:]\n",
        "\n",
        "#分训练集测试集\n",
        "X_train, X_validation, y_train, y_validation = train_test_split(features, labels, test_size=0.05, random_state=4)\n",
        "lgb_train = lgb.Dataset(X_train, y_train)\n",
        "lgb_eval = lgb.Dataset(X_validation, y_validation, reference=lgb_train)"
      ]
    },
    {
      "cell_type": "code",
      "execution_count": 186,
      "metadata": {
        "colab": {
          "base_uri": "https://localhost:8080/"
        },
        "id": "gR90Iko9OCYK",
        "outputId": "1e27fdbf-ada0-4fbe-9c64-80e39e0ab005"
      },
      "outputs": [
        {
          "output_type": "stream",
          "name": "stdout",
          "text": [
            "       label\n",
            "10162      0\n",
            "5367       1\n",
            "10077      0\n",
            "11103      0\n",
            "4837       1\n",
            "...      ...\n",
            "5291       1\n",
            "3394       1\n",
            "2858       1\n",
            "14259      1\n",
            "11420      0\n",
            "\n",
            "[860 rows x 1 columns]\n",
            "10111\n",
            "0.6144792799920878\n",
            "6213\n",
            "         0    1    2    3    4    5    6    7    8    9  ...  4990  4991  \\\n",
            "14728  0.0  0.0  0.0  0.0  0.0  0.0  0.0  0.0  0.0  0.0  ...   0.0   0.0   \n",
            "197    0.0  0.0  0.0  0.0  0.0  0.0  0.0  0.0  0.0  0.0  ...   0.0   0.0   \n",
            "6844   0.0  0.0  0.0  0.0  0.0  0.0  0.0  0.0  0.0  0.0  ...   0.0   0.0   \n",
            "7608   0.0  0.0  0.0  0.0  0.0  0.0  0.0  0.0  0.0  0.0  ...   0.0   0.0   \n",
            "8985   0.0  0.0  0.0  0.0  0.0  0.0  0.0  0.0  0.0  0.0  ...   0.0   0.0   \n",
            "...    ...  ...  ...  ...  ...  ...  ...  ...  ...  ...  ...   ...   ...   \n",
            "9274   0.0  0.0  0.0  0.0  0.0  0.0  0.0  0.0  0.0  0.0  ...   0.0   0.0   \n",
            "16840  0.0  0.0  0.0  0.0  0.0  0.0  0.0  0.0  0.0  0.0  ...   0.0   0.0   \n",
            "11863  0.0  0.0  0.0  0.0  0.0  0.0  0.0  0.0  0.0  0.0  ...   0.0   0.0   \n",
            "17093  0.0  0.0  0.0  0.0  0.0  0.0  0.0  0.0  0.0  0.0  ...   0.0   0.0   \n",
            "8366   0.0  0.0  0.0  0.0  0.0  0.0  0.0  0.0  0.0  0.0  ...   0.0   0.0   \n",
            "\n",
            "       4992  4993  4994  4995  4996  4997  4998  4999  \n",
            "14728   0.0   0.0   0.0   0.0   0.0   0.0   0.0   0.0  \n",
            "197     0.0   0.0   0.0   0.0   0.0   0.0   0.0   0.0  \n",
            "6844    0.0   0.0   0.0   0.0   0.0   0.0   0.0   0.0  \n",
            "7608    0.0   0.0   0.0   0.0   0.0   0.0   0.0   0.0  \n",
            "8985    0.0   0.0   0.0   0.0   0.0   0.0   0.0   0.0  \n",
            "...     ...   ...   ...   ...   ...   ...   ...   ...  \n",
            "9274    0.0   0.0   0.0   0.0   0.0   0.0   0.0   0.0  \n",
            "16840   0.0   0.0   0.0   0.0   0.0   0.0   0.0   0.0  \n",
            "11863   0.0   0.0   0.0   0.0   0.0   0.0   0.0   0.0  \n",
            "17093   0.0   0.0   0.0   0.0   0.0   0.0   0.0   0.0  \n",
            "8366    0.0   0.0   0.0   0.0   0.0   0.0   0.0   0.0  \n",
            "\n",
            "[16324 rows x 5000 columns]\n",
            "         0    1    2    3    4    5    6    7    8    9  ...  4990  4991  \\\n",
            "10162  0.0  0.0  0.0  0.0  0.0  0.0  0.0  0.0  0.0  0.0  ...   0.0   0.0   \n",
            "5367   0.0  0.0  0.0  0.0  0.0  0.0  0.0  0.0  0.0  0.0  ...   0.0   0.0   \n",
            "10077  0.0  0.0  0.0  0.0  0.0  0.0  0.0  0.0  0.0  0.0  ...   0.0   0.0   \n",
            "11103  0.0  0.0  0.0  0.0  0.0  0.0  0.0  0.0  0.0  0.0  ...   0.0   0.0   \n",
            "4837   0.0  0.0  0.0  0.0  0.0  0.0  0.0  0.0  0.0  0.0  ...   0.0   0.0   \n",
            "...    ...  ...  ...  ...  ...  ...  ...  ...  ...  ...  ...   ...   ...   \n",
            "5291   0.0  0.0  0.0  0.0  0.0  0.0  0.0  0.0  0.0  0.0  ...   0.0   0.0   \n",
            "3394   0.0  0.0  0.0  0.0  0.0  0.0  0.0  0.0  0.0  0.0  ...   0.0   0.0   \n",
            "2858   0.0  0.0  0.0  0.0  0.0  0.0  0.0  0.0  0.0  0.0  ...   0.0   0.0   \n",
            "14259  0.0  0.0  0.0  0.0  0.0  0.0  0.0  0.0  0.0  0.0  ...   0.0   0.0   \n",
            "11420  0.0  0.0  0.0  0.0  0.0  0.0  0.0  0.0  0.0  0.0  ...   0.0   0.0   \n",
            "\n",
            "       4992  4993  4994  4995  4996  4997  4998  4999  \n",
            "10162   0.0   0.0   0.0   0.0   0.0   0.0   0.0   0.0  \n",
            "5367    0.0   0.0   0.0   0.0   0.0   0.0   0.0   0.0  \n",
            "10077   0.0   0.0   0.0   0.0   0.0   0.0   0.0   0.0  \n",
            "11103   0.0   0.0   0.0   0.0   0.0   0.0   0.0   0.0  \n",
            "4837    0.0   0.0   0.0   0.0   0.0   0.0   0.0   0.0  \n",
            "...     ...   ...   ...   ...   ...   ...   ...   ...  \n",
            "5291    0.0   0.0   0.0   0.0   0.0   0.0   0.0   0.0  \n",
            "3394    0.0   0.0   0.0   0.0   0.0   0.0   0.0   0.0  \n",
            "2858    0.0   0.0   0.0   0.0   0.0   0.0   0.0   0.0  \n",
            "14259   0.0   0.0   0.0   0.0   0.0   0.0   0.0   0.0  \n",
            "11420   0.0   0.0   0.0   0.0   0.0   0.0   0.0   0.0  \n",
            "\n",
            "[860 rows x 5000 columns]\n"
          ]
        }
      ],
      "source": [
        "print(y_validation)\n",
        "count = 0\n",
        "for i in y_train['label']:\n",
        "    if i == 1:\n",
        "        count += 1\n",
        "print(len(y_train) - count)\n",
        "print(count/(len(y_train) - count))\n",
        "print(count)\n",
        "print(X_train)\n",
        "print(X_validation)"
      ]
    },
    {
      "cell_type": "code",
      "execution_count": 142,
      "metadata": {
        "id": "n_2kn-AHd-m0"
      },
      "outputs": [],
      "source": [
        "def my_custom_loss_func(y_true, y_pred):\n",
        "    pos_f1 = metrics.f1_score(y_validation, y_pred_validation, pos_label=1 )\n",
        "    neg_f1 = metrics.f1_score(y_validation, y_pred_validation, pos_label=0 )\n",
        "    macro_f1 = (pos_f1 + neg_f1)/2  \n",
        "    return -1*macro_f1\n",
        "\n",
        "macro_f1 = make_scorer(my_custom_loss_func, greater_is_better=False)"
      ]
    },
    {
      "cell_type": "code",
      "execution_count": 214,
      "metadata": {
        "id": "b07e6pA1-N6c"
      },
      "outputs": [],
      "source": [
        "mdl = lgb.LGBMClassifier(boosting_type = 'gbdt',  # 设置提升类型\n",
        "    objective = 'binary',  # 目标函数\n",
        "    num_iterations = 15000,\n",
        "    max_depth = 100,\n",
        "    metric = 'macro_f1',  # 评估函数\n",
        "    num_leaves = 220,  # 叶子节点数\n",
        "    learning_rate = 0.005,  # 学习速率\n",
        "    feature_fraction = 0.9,  # 建树的特征选择比例\n",
        "    bagging_fraction = 0.65,  # 建树的样本采样比例\n",
        "    #pos_bagging_fraction = 0.9,\n",
        "    #neg_bagging_fraction = 0.54,\n",
        "    bagging_freq =  5,  # k 意味着每 k 次迭代执行bagging\n",
        "    min_data_in_leaf = 30,\n",
        "    is_unbalance = True,\n",
        "    lambda_l2 = 500,\n",
        "    lambdarank_norm = True,\n",
        "    nthread = -1,\n",
        "    verbose = 1  )\n"
      ]
    },
    {
      "cell_type": "code",
      "execution_count": 215,
      "metadata": {
        "colab": {
          "base_uri": "https://localhost:8080/"
        },
        "id": "6fXjbWGVBb1m",
        "outputId": "9bb64357-522e-4d14-9474-ba18ae22579e"
      },
      "outputs": [
        {
          "output_type": "stream",
          "name": "stderr",
          "text": [
            "/usr/local/lib/python3.7/dist-packages/sklearn/preprocessing/_label.py:98: DataConversionWarning: A column-vector y was passed when a 1d array was expected. Please change the shape of y to (n_samples, ), for example using ravel().\n",
            "  y = column_or_1d(y, warn=True)\n",
            "/usr/local/lib/python3.7/dist-packages/sklearn/preprocessing/_label.py:133: DataConversionWarning: A column-vector y was passed when a 1d array was expected. Please change the shape of y to (n_samples, ), for example using ravel().\n",
            "  y = column_or_1d(y, warn=True)\n",
            "/usr/local/lib/python3.7/dist-packages/lightgbm/engine.py:118: UserWarning: Found `num_iterations` in params. Will use it instead of argument\n",
            "  warnings.warn(\"Found `{}` in params. Will use it instead of argument\".format(alias))\n"
          ]
        },
        {
          "output_type": "execute_result",
          "data": {
            "text/plain": [
              "LGBMClassifier(bagging_fraction=0.65, bagging_freq=5, feature_fraction=0.9,\n",
              "               is_unbalance=True, lambda_l2=500, lambdarank_norm=True,\n",
              "               learning_rate=0.005, max_depth=100, metric='macro_f1',\n",
              "               min_data_in_leaf=30, nthread=-1, num_iterations=15000,\n",
              "               num_leaves=220, objective='binary', verbose=1)"
            ]
          },
          "metadata": {},
          "execution_count": 215
        }
      ],
      "source": [
        "mdl.fit(X_train,y_train)"
      ]
    },
    {
      "cell_type": "code",
      "execution_count": 216,
      "metadata": {
        "colab": {
          "base_uri": "https://localhost:8080/"
        },
        "id": "uuED2PikRCEr",
        "outputId": "afe942bd-3d27-4989-d4fd-cfc62591651b"
      },
      "outputs": [
        {
          "output_type": "stream",
          "name": "stdout",
          "text": [
            "[0 0 0 0 1 0 0 1 0 1 0 0 0 0 0 0 0 0 0 0 0 1 0 0 0 1 0 1 1 0 0 0 0 0 0 0 1\n",
            " 1 1 0 0 1 1 0 0 0 1 0 1 0 0 0 1 0 0 0 1 1 0 0 1 0 1 0 1 1 0 1 1 1 0 1 1 0\n",
            " 0 0 0 0 1 0 0 1 0 0 1 0 0 1 0 0 1 0 0 1 1 1 0 0 0 0 0 0 1 0 0 1 0 0 0 1 0\n",
            " 1 0 1 0 1 0 1 0 0 1 0 0 1 1 1 1 0 0 0 0 0 1 1 0 0 0 1 1 1 1 0 0 0 0 0 0 0\n",
            " 1 1 1 1 1 1 0 0 0 1 0 0 1 0 1 0 0 0 0 0 1 0 0 0 0 1 1 0 1 1 0 1 0 0 0 1 0\n",
            " 0 1 0 0 0 0 0 0 1 0 1 1 0 1 0 0 0 1 1 1 0 0 0 0 0 0 0 1 0 1 1 1 0 0 1 0 0\n",
            " 0 0 0 0 0 0 0 0 1 1 1 0 0 0 0 0 0 1 0 0 1 0 1 0 1 0 1 0 0 0 0 1 1 0 1 0 1\n",
            " 1 0 0 0 1 1 0 0 1 0 1 0 0 0 0 0 1 1 0 0 0 1 0 0 0 1 1 1 1 1 1 1 1 0 1 0 0\n",
            " 0 0 0 0 0 1 0 1 1 0 1 0 1 1 1 1 1 1 1 1 1 0 0 0 1 0 0 0 1 1 0 1 0 0 1 0 0\n",
            " 0 1 0 1 0 1 1 0 0 0 0 1 0 1 0 1 0 0 0 0 0 0 1 0 0 0 1 0 0 1 0 1 0 0 0 0 0\n",
            " 1 0 1 1 1 1 1 0 0 1 0 1 1 0 0 0 0 1 1 0 1 0 1 1 0 0 0 1 0 0 1 1 1 0 0 1 0\n",
            " 1 1 0 1 0 1 0 0 1 1 0 0 0 0 0 0 0 1 0 0 1 0 1 0 0 0 0 0 1 0 1 1 1 0 0 1 1\n",
            " 0 0 0 0 0 0 0 0 0 0 0 0 1 1 0 0 1 1 0 0 0 0 0 0 1 1 0 1 0 0 0 0 0 0 0 0 1\n",
            " 0 0 0 1 0 1 0 1 0 1 0 1 1 0 0 1 1 0 0 1 1 1 0 0 1 0 0 1 0 0 1 0 1 1 1 0 0\n",
            " 1 1 0 1 0 1 0 1 0 1 1 1 1 1 0 0 0 1 0 1 1 1 1 0 0 1 1 1 0 0 0 1 1 0 1 0 0\n",
            " 0 0 0 0 0 0 1 0 0 0 0 0 1 0 0 0 0 0 0 1 1 1 1 0 0 1 0 1 1 0 0 0 1 0 1 1 0\n",
            " 0 0 0 1 1 0 1 0 0 0 0 0 0 1 1 1 0 0 1 0 0 0 1 0 0 0 0 1 0 1 0 0 0 0 0 0 0\n",
            " 0 0 1 1 1 1 1 1 0 0 0 0 0 1 0 0 1 1 0 1 0 0 1 0 0 0 0 1 1 1 0 0 0 1 0 0 0\n",
            " 0 0 0 0 0 1 0 1 0 0 0 0 0 1 1 0 1 1 0 0 0 0 0 1 0 1 0 0 1 1 0 0 1 1 1 1 1\n",
            " 1 0 0 1 1 0 0 0 1 1 0 0 0 1 0 0 0 0 1 1 1 1 0 1 0 0 1 1 0 0 1 0 1 0 1 0 1\n",
            " 1 1 0 1 1 1 0 1 0 0 0 1 1 0 1 1 0 0 1 1 0 0 0 1 0 0 0 0 1 0 1 1 0 0 1 1 0\n",
            " 0 0 0 1 1 1 0 0 0 0 1 1 1 0 0 0 0 0 0 0 1 0 0 1 0 0 1 0 0 1 0 0 0 0 1 1 1\n",
            " 0 1 0 1 0 0 0 0 1 0 1 0 0 0 1 1 0 1 0 1 0 0 0 1 0 0 0 1 1 0 1 0 0 0 1 0 1\n",
            " 1 0 0 0 1 0 1 1 0]\n",
            "0.6311111111111111\n",
            "0.7617224880382774\n",
            "validation_macro_f1 : 0.6964\n",
            "validation_acc: 0.7105\n"
          ]
        }
      ],
      "source": [
        "y_validation, y_pred_validation = y_validation, mdl.predict(X_validation)\n",
        "\n",
        "threshold = 0.5\n",
        "for i in range(len(y_pred_validation)):\n",
        "    y_pred_validation[i] = 1 if y_pred_validation[i] > threshold else 0\n",
        "print(y_pred_validation)\n",
        "pos_f1 = metrics.f1_score(y_validation, y_pred_validation, pos_label=1 )\n",
        "neg_f1 = metrics.f1_score(y_validation, y_pred_validation, pos_label=0 )\n",
        "macro_f1 = (pos_f1 + neg_f1)/2\n",
        "print(pos_f1)\n",
        "print(neg_f1)\n",
        "print(\"validation_macro_f1 : %.4g\" % macro_f1)  \n",
        "print(\"validation_acc: %.4g\"% metrics.accuracy_score(y_validation, y_pred_validation))"
      ]
    },
    {
      "cell_type": "code",
      "execution_count": 213,
      "metadata": {
        "colab": {
          "base_uri": "https://localhost:8080/"
        },
        "id": "OBK_SXcSnIFA",
        "outputId": "c1a33c7d-16c9-4f38-a5c7-92a5fadce301"
      },
      "outputs": [
        {
          "output_type": "stream",
          "name": "stdout",
          "text": [
            "[0 1 0 ... 0 0 1]\n",
            "0.7766739971183741\n",
            "0.8486717023791173\n",
            "train_macro_f1 : 0.8127\n",
            "train_acc: 0.8196\n"
          ]
        }
      ],
      "source": [
        "y_train, y_pred_train = y_train, mdl.predict(X_train)\n",
        "\n",
        "threshold = 0.5\n",
        "for i in range(len(y_pred_train)):\n",
        "    y_pred_train[i] = 1 if y_pred_train[i] > threshold else 0\n",
        "print(y_pred_train)\n",
        "pos_f1 = metrics.f1_score(y_train, y_pred_train, pos_label=1 )\n",
        "neg_f1 = metrics.f1_score(y_train, y_pred_train, pos_label=0 )\n",
        "macro_f1 = (pos_f1 + neg_f1)/2\n",
        "print(pos_f1)\n",
        "print(neg_f1)\n",
        "print(\"train_macro_f1 : %.4g\" % macro_f1)  \n",
        "print(\"train_acc: %.4g\"% metrics.accuracy_score(y_train, y_pred_train))"
      ]
    },
    {
      "cell_type": "code",
      "execution_count": null,
      "metadata": {
        "id": "FkbBhqmW73Pv"
      },
      "outputs": [],
      "source": [
        "X_test = df_test_features.iloc[:,1:]"
      ]
    },
    {
      "cell_type": "code",
      "execution_count": null,
      "metadata": {
        "colab": {
          "base_uri": "https://localhost:8080/"
        },
        "id": "vOGSfwtvhv-R",
        "outputId": "db89235f-c9fd-4150-9ef3-25b0ffe6ba8c"
      },
      "outputs": [
        {
          "name": "stdout",
          "output_type": "stream",
          "text": [
            "        0    1    2    3    4    5    6    7    8    9  ...  4990  4991  4992  \\\n",
            "0     0.0  0.0  0.0  0.0  0.0  0.0  0.0  0.0  0.0  0.0  ...   0.0   0.0   0.0   \n",
            "1     0.0  0.0  0.0  0.0  0.0  0.0  0.0  0.0  0.0  0.0  ...   0.0   0.0   0.0   \n",
            "2     0.0  0.0  0.0  0.0  0.0  0.0  0.0  0.0  0.0  0.0  ...   0.0   0.0   0.0   \n",
            "3     0.0  0.0  0.0  0.0  0.0  0.0  0.0  0.0  0.0  0.0  ...   0.0   0.0   0.0   \n",
            "4     0.0  0.0  0.0  0.0  0.0  0.0  0.0  0.0  0.0  0.0  ...   0.0   0.0   0.0   \n",
            "...   ...  ...  ...  ...  ...  ...  ...  ...  ...  ...  ...   ...   ...   ...   \n",
            "4291  0.0  0.0  0.0  0.0  0.0  0.0  0.0  0.0  0.0  0.0  ...   0.0   0.0   0.0   \n",
            "4292  0.0  0.0  0.0  0.0  0.0  0.0  0.0  0.0  0.0  0.0  ...   0.0   0.0   0.0   \n",
            "4293  0.0  0.0  0.0  0.0  0.0  0.0  0.0  0.0  0.0  0.0  ...   0.0   0.0   0.0   \n",
            "4294  0.0  0.0  0.0  0.0  0.0  0.0  0.0  0.0  0.0  0.0  ...   0.0   0.0   0.0   \n",
            "4295  0.0  0.0  0.0  0.0  0.0  0.0  0.0  0.0  0.0  0.0  ...   0.0   0.0   0.0   \n",
            "\n",
            "      4993  4994  4995  4996  4997  4998  4999  \n",
            "0      0.0   0.0   0.0   0.0   0.0   0.0   0.0  \n",
            "1      0.0   0.0   0.0   0.0   0.0   0.0   0.0  \n",
            "2      0.0   0.0   0.0   0.0   0.0   0.0   0.0  \n",
            "3      0.0   0.0   0.0   0.0   0.0   0.0   0.0  \n",
            "4      0.0   0.0   0.0   0.0   0.0   0.0   0.0  \n",
            "...    ...   ...   ...   ...   ...   ...   ...  \n",
            "4291   0.0   0.0   0.0   0.0   0.0   0.0   0.0  \n",
            "4292   0.0   0.0   0.0   0.0   0.0   0.0   0.0  \n",
            "4293   0.0   0.0   0.0   0.0   0.0   0.0   0.0  \n",
            "4294   0.0   0.0   0.0   0.0   0.0   0.0   0.0  \n",
            "4295   0.0   0.0   0.0   0.0   0.0   0.0   0.0  \n",
            "\n",
            "[4296 rows x 5000 columns]\n"
          ]
        }
      ],
      "source": [
        "print(X_test)"
      ]
    },
    {
      "cell_type": "code",
      "execution_count": null,
      "metadata": {
        "id": "LMO5yVxihheq"
      },
      "outputs": [],
      "source": [
        "y_test = gbm.predict(X_test)"
      ]
    },
    {
      "cell_type": "code",
      "execution_count": null,
      "metadata": {
        "colab": {
          "base_uri": "https://localhost:8080/"
        },
        "id": "O9PCguXuh9Hu",
        "outputId": "ae02774a-28bd-44ba-aa12-228edf1bf25d"
      },
      "outputs": [
        {
          "name": "stdout",
          "output_type": "stream",
          "text": [
            "[1 1 1 ... 1 0 0]\n"
          ]
        }
      ],
      "source": [
        "print(y_test)"
      ]
    },
    {
      "cell_type": "code",
      "execution_count": null,
      "metadata": {
        "colab": {
          "base_uri": "https://localhost:8080/"
        },
        "id": "KxpjzG47ixU2",
        "outputId": "8afb00b1-4f6f-48c5-f7f6-bc3aab238ad8"
      },
      "outputs": [
        {
          "name": "stdout",
          "output_type": "stream",
          "text": [
            "       label\n",
            "id          \n",
            "17185      1\n",
            "17186      1\n",
            "17187      1\n",
            "17188      0\n",
            "17189      0\n",
            "...      ...\n",
            "21476      1\n",
            "21477      1\n",
            "21478      1\n",
            "21479      0\n",
            "21480      0\n",
            "\n",
            "[4296 rows x 1 columns]\n"
          ]
        }
      ],
      "source": [
        "x = df_test\n",
        "x = x.set_index(\"id\")\n",
        "x = x.drop(\"post\", axis = 1)\n",
        "x[\"label\"] = y_test\n",
        "print(x)\n",
        "x.to_csv(\"/content/drive/MyDrive/50.007kaggle/submit.csv\")"
      ]
    }
  ],
  "metadata": {
    "accelerator": "GPU",
    "colab": {
      "collapsed_sections": [],
      "name": "“lightgbm”的副本",
      "provenance": [],
      "mount_file_id": "1UhkVzKCI8AEiC-ywoWL5JAIR0Amb9s7e",
      "authorship_tag": "ABX9TyPb4QpxeOrYju0fk8fmTuDb",
      "include_colab_link": true
    },
    "gpuClass": "standard",
    "kernelspec": {
      "display_name": "Python 3",
      "name": "python3"
    },
    "language_info": {
      "name": "python"
    }
  },
  "nbformat": 4,
  "nbformat_minor": 0
}